{
 "cells": [
  {
   "cell_type": "markdown",
   "metadata": {},
   "source": [
    "# SWAG MCQ Reasoning with BERT and In-Context Learning\n",
    "\n",
    "This notebook implements **Task 3** from the *Introduction to Data Science - Assignment 5&6*. The goal is to explore how **Large Language Models (LLMs)**, specifically BERT, can solve **multiple-choice commonsense reasoning questions** from the **SWAG dataset**.\n",
    "\n",
    "Traditional machine learning models struggle with nuanced semantic inference tasks. Here, we utilize modern LLM techniques—including **zero-shot prediction**, **in-context learning (ICL)**, and **fine-tuning with LoRA**—to handle the task effectively.\n",
    "\n",
    "### 🔍 Task Overview\n",
    "We work with the **SWAG dataset** (113k+ MCQs) to:\n",
    "- Preprocess and tokenize inputs in multiple-choice format.\n",
    "- Evaluate BERT in a zero-shot setting.\n",
    "- Apply in-context learning using prompt engineering.\n",
    "- Fine-tune the BERT model with LoRA for performance gains.\n",
    "- Compare model performance across zero-shot, ICL, and fine-tuned configurations.\n",
    "\n",
    "### 🧠 Learning Objective\n",
    "- Understand the limitations of classical models for reasoning tasks.\n",
    "- Apply prompt-based and fine-tuning strategies for LLMs.\n",
    "- Use HuggingFace Transformers to load, preprocess, evaluate, and fine-tune models.\n",
    "- Analyze results using accuracy, confusion matrix, and perplexity.\n",
    "\n",
    "**Dataset:** [SWAG - Situations With Adversarial Generations](https://huggingface.co/datasets/allenai/swag)\n",
    "            \n",
    "### 📌 Note\n",
    "Make sure to\n",
    "- Use your Hugging Face token for access.\n",
    "- Run on Kaggle for reliable GPU access and smoother performance. \n"
   ]
  },
  {
   "cell_type": "code",
   "execution_count": 1,
   "metadata": {
    "execution": {
     "iopub.execute_input": "2025-08-24T10:47:40.804384Z",
     "iopub.status.busy": "2025-08-24T10:47:40.804105Z",
     "iopub.status.idle": "2025-08-24T10:47:40.809254Z",
     "shell.execute_reply": "2025-08-24T10:47:40.808549Z",
     "shell.execute_reply.started": "2025-08-24T10:47:40.804358Z"
    },
    "trusted": true
   },
   "outputs": [],
   "source": [
    "# # 1) Uninstall any leftovers\n",
    "# !pip uninstall -y transformers tokenizers\n",
    "\n",
    "# # 2) Install the last version before the helpers were removed\n",
    "# !pip install --no-cache-dir transformers==4.27.4\n",
    "\n",
    "# # 3) Now install your other libraries (they won’t bump Transformers because 4.27.4 satisfies PEFT)\n",
    "# !pip install --no-cache-dir peft evaluate packaging\n"
   ]
  },
  {
   "cell_type": "code",
   "execution_count": 2,
   "metadata": {
    "execution": {
     "iopub.execute_input": "2025-08-24T10:47:40.810293Z",
     "iopub.status.busy": "2025-08-24T10:47:40.809977Z",
     "iopub.status.idle": "2025-08-24T10:47:40.827599Z",
     "shell.execute_reply": "2025-08-24T10:47:40.826886Z",
     "shell.execute_reply.started": "2025-08-24T10:47:40.810268Z"
    },
    "trusted": true
   },
   "outputs": [],
   "source": [
    "# !pip uninstall -y transformers tokenizers datasets fsspec peft evaluate"
   ]
  },
  {
   "cell_type": "code",
   "execution_count": 3,
   "metadata": {
    "execution": {
     "iopub.execute_input": "2025-08-24T10:47:40.828532Z",
     "iopub.status.busy": "2025-08-24T10:47:40.828326Z",
     "iopub.status.idle": "2025-08-24T10:47:49.809509Z",
     "shell.execute_reply": "2025-08-24T10:47:49.808854Z",
     "shell.execute_reply.started": "2025-08-24T10:47:40.828516Z"
    },
    "trusted": true
   },
   "outputs": [
    {
     "name": "stderr",
     "output_type": "stream",
     "text": [
      "2025-08-24 10:47:46.965133: E external/local_xla/xla/stream_executor/cuda/cuda_fft.cc:477] Unable to register cuFFT factory: Attempting to register factory for plugin cuFFT when one has already been registered\n",
      "WARNING: All log messages before absl::InitializeLog() is called are written to STDERR\n",
      "E0000 00:00:1756032466.988753     180 cuda_dnn.cc:8310] Unable to register cuDNN factory: Attempting to register factory for plugin cuDNN when one has already been registered\n",
      "E0000 00:00:1756032466.995820     180 cuda_blas.cc:1418] Unable to register cuBLAS factory: Attempting to register factory for plugin cuBLAS when one has already been registered\n"
     ]
    },
    {
     "name": "stdout",
     "output_type": "stream",
     "text": [
      "Transformers: 4.52.4\n",
      "Datasets: 3.6.0\n",
      "Fsspec: 2025.3.0\n",
      "PEFT: 0.15.2\n"
     ]
    }
   ],
   "source": [
    "import transformers, datasets, fsspec, peft\n",
    "print(\"Transformers:\", transformers.__version__)\n",
    "print(\"Datasets:\", datasets.__version__)\n",
    "print(\"Fsspec:\", fsspec.__version__)\n",
    "print(\"PEFT:\", peft.__version__)\n"
   ]
  },
  {
   "cell_type": "code",
   "execution_count": 4,
   "metadata": {
    "execution": {
     "iopub.execute_input": "2025-08-24T10:47:49.810718Z",
     "iopub.status.busy": "2025-08-24T10:47:49.810239Z",
     "iopub.status.idle": "2025-08-24T10:47:49.813920Z",
     "shell.execute_reply": "2025-08-24T10:47:49.813097Z",
     "shell.execute_reply.started": "2025-08-24T10:47:49.810688Z"
    },
    "trusted": true
   },
   "outputs": [],
   "source": [
    "# !pip uninstall -y transformers\n",
    "# !pip install transformers==4.27.4 --no-cache-dir\n",
    "\n"
   ]
  },
  {
   "cell_type": "code",
   "execution_count": 5,
   "metadata": {
    "execution": {
     "iopub.execute_input": "2025-08-24T10:47:49.816109Z",
     "iopub.status.busy": "2025-08-24T10:47:49.815907Z",
     "iopub.status.idle": "2025-08-24T10:47:49.828464Z",
     "shell.execute_reply": "2025-08-24T10:47:49.827894Z",
     "shell.execute_reply.started": "2025-08-24T10:47:49.816092Z"
    },
    "trusted": true
   },
   "outputs": [],
   "source": [
    "# import transformers\n",
    "# print(transformers.__version__)"
   ]
  },
  {
   "cell_type": "code",
   "execution_count": 6,
   "metadata": {
    "execution": {
     "iopub.execute_input": "2025-08-24T10:47:49.829462Z",
     "iopub.status.busy": "2025-08-24T10:47:49.829224Z",
     "iopub.status.idle": "2025-08-24T10:47:49.841491Z",
     "shell.execute_reply": "2025-08-24T10:47:49.840926Z",
     "shell.execute_reply.started": "2025-08-24T10:47:49.829445Z"
    },
    "trusted": true
   },
   "outputs": [
    {
     "name": "stdout",
     "output_type": "stream",
     "text": [
      "hello world\n"
     ]
    }
   ],
   "source": [
    "print(\"hello world\")"
   ]
  },
  {
   "cell_type": "markdown",
   "metadata": {},
   "source": [
    "## 1. Hugging Face Access Token"
   ]
  },
  {
   "cell_type": "code",
   "execution_count": null,
   "metadata": {
    "execution": {
     "iopub.execute_input": "2025-08-24T10:47:49.842426Z",
     "iopub.status.busy": "2025-08-24T10:47:49.842175Z",
     "iopub.status.idle": "2025-08-24T10:47:49.976150Z",
     "shell.execute_reply": "2025-08-24T10:47:49.975409Z",
     "shell.execute_reply.started": "2025-08-24T10:47:49.842404Z"
    },
    "trusted": true
   },
   "outputs": [],
   "source": [
    "# Hugging Face Login\n",
    "from huggingface_hub import notebook_login, login\n",
    "notebook_login()\n"
   ]
  },
  {
   "cell_type": "markdown",
   "metadata": {},
   "source": [
    "## 2. Loading Dataset"
   ]
  },
  {
   "cell_type": "code",
   "execution_count": 8,
   "metadata": {
    "execution": {
     "iopub.execute_input": "2025-08-24T10:47:49.977220Z",
     "iopub.status.busy": "2025-08-24T10:47:49.976950Z",
     "iopub.status.idle": "2025-08-24T10:47:54.028437Z",
     "shell.execute_reply": "2025-08-24T10:47:54.027867Z",
     "shell.execute_reply.started": "2025-08-24T10:47:49.977195Z"
    },
    "trusted": true
   },
   "outputs": [
    {
     "name": "stdout",
     "output_type": "stream",
     "text": [
      "DatasetDict({\n",
      "    train: Dataset({\n",
      "        features: ['video-id', 'fold-ind', 'startphrase', 'sent1', 'sent2', 'gold-source', 'ending0', 'ending1', 'ending2', 'ending3', 'label'],\n",
      "        num_rows: 73546\n",
      "    })\n",
      "    validation: Dataset({\n",
      "        features: ['video-id', 'fold-ind', 'startphrase', 'sent1', 'sent2', 'gold-source', 'ending0', 'ending1', 'ending2', 'ending3', 'label'],\n",
      "        num_rows: 20006\n",
      "    })\n",
      "    test: Dataset({\n",
      "        features: ['video-id', 'fold-ind', 'startphrase', 'sent1', 'sent2', 'gold-source', 'ending0', 'ending1', 'ending2', 'ending3', 'label'],\n",
      "        num_rows: 20005\n",
      "    })\n",
      "})\n"
     ]
    },
    {
     "data": {
      "text/plain": [
       "{'video-id': 'anetv_jkn6uvmqwh4',\n",
       " 'fold-ind': '3416',\n",
       " 'startphrase': 'Members of the procession walk down the street holding small horn brass instruments. A drum line',\n",
       " 'sent1': 'Members of the procession walk down the street holding small horn brass instruments.',\n",
       " 'sent2': 'A drum line',\n",
       " 'gold-source': 'gold',\n",
       " 'ending0': 'passes by walking down the street playing their instruments.',\n",
       " 'ending1': 'has heard approaching them.',\n",
       " 'ending2': \"arrives and they're outside dancing and asleep.\",\n",
       " 'ending3': 'turns the lead singer watches the performance.',\n",
       " 'label': 0}"
      ]
     },
     "execution_count": 8,
     "metadata": {},
     "output_type": "execute_result"
    }
   ],
   "source": [
    "from datasets import load_dataset\n",
    "import pandas as pd\n",
    "\n",
    "# Load the SWAG dataset\n",
    "dataset = load_dataset(\"swag\", \"regular\")\n",
    "\n",
    "df_train = dataset['train'].to_pandas()\n",
    "df_val = dataset['validation'].to_pandas()\n",
    "df_test = dataset['test'].to_pandas()\n",
    "\n",
    "# adding a column to specify the split\n",
    "df_train['split'] = 'train'\n",
    "df_val['split'] = 'validation'\n",
    "df_test['split'] = 'test'\n",
    "# Concatenate all into one DataFrame\n",
    "df = pd.concat([df_train, df_val, df_test], ignore_index=True)\n",
    "\n",
    "print(dataset)\n",
    "dataset[\"train\"][0]\n",
    "  "
   ]
  },
  {
   "cell_type": "markdown",
   "metadata": {},
   "source": [
    "## 3. Analyza the Dataset"
   ]
  },
  {
   "cell_type": "markdown",
   "metadata": {},
   "source": [
    "### schema"
   ]
  },
  {
   "cell_type": "code",
   "execution_count": 9,
   "metadata": {
    "execution": {
     "iopub.execute_input": "2025-08-24T10:47:54.029694Z",
     "iopub.status.busy": "2025-08-24T10:47:54.029430Z",
     "iopub.status.idle": "2025-08-24T10:47:54.042011Z",
     "shell.execute_reply": "2025-08-24T10:47:54.041419Z",
     "shell.execute_reply.started": "2025-08-24T10:47:54.029668Z"
    },
    "trusted": true
   },
   "outputs": [
    {
     "data": {
      "text/html": [
       "<div>\n",
       "<style scoped>\n",
       "    .dataframe tbody tr th:only-of-type {\n",
       "        vertical-align: middle;\n",
       "    }\n",
       "\n",
       "    .dataframe tbody tr th {\n",
       "        vertical-align: top;\n",
       "    }\n",
       "\n",
       "    .dataframe thead th {\n",
       "        text-align: right;\n",
       "    }\n",
       "</style>\n",
       "<table border=\"1\" class=\"dataframe\">\n",
       "  <thead>\n",
       "    <tr style=\"text-align: right;\">\n",
       "      <th></th>\n",
       "      <th>video-id</th>\n",
       "      <th>fold-ind</th>\n",
       "      <th>startphrase</th>\n",
       "      <th>sent1</th>\n",
       "      <th>sent2</th>\n",
       "      <th>gold-source</th>\n",
       "      <th>ending0</th>\n",
       "      <th>ending1</th>\n",
       "      <th>ending2</th>\n",
       "      <th>ending3</th>\n",
       "      <th>label</th>\n",
       "      <th>split</th>\n",
       "    </tr>\n",
       "  </thead>\n",
       "  <tbody>\n",
       "    <tr>\n",
       "      <th>0</th>\n",
       "      <td>anetv_jkn6uvmqwh4</td>\n",
       "      <td>3416</td>\n",
       "      <td>Members of the procession walk down the street...</td>\n",
       "      <td>Members of the procession walk down the street...</td>\n",
       "      <td>A drum line</td>\n",
       "      <td>gold</td>\n",
       "      <td>passes by walking down the street playing thei...</td>\n",
       "      <td>has heard approaching them.</td>\n",
       "      <td>arrives and they're outside dancing and asleep.</td>\n",
       "      <td>turns the lead singer watches the performance.</td>\n",
       "      <td>0</td>\n",
       "      <td>train</td>\n",
       "    </tr>\n",
       "    <tr>\n",
       "      <th>1</th>\n",
       "      <td>anetv_jkn6uvmqwh4</td>\n",
       "      <td>3417</td>\n",
       "      <td>A drum line passes by walking down the street ...</td>\n",
       "      <td>A drum line passes by walking down the street ...</td>\n",
       "      <td>Members of the procession</td>\n",
       "      <td>gen</td>\n",
       "      <td>are playing ping pong and celebrating one left...</td>\n",
       "      <td>wait slowly towards the cadets.</td>\n",
       "      <td>continues to play as well along the crowd alon...</td>\n",
       "      <td>continue to play marching, interspersed.</td>\n",
       "      <td>3</td>\n",
       "      <td>train</td>\n",
       "    </tr>\n",
       "    <tr>\n",
       "      <th>2</th>\n",
       "      <td>anetv_jkn6uvmqwh4</td>\n",
       "      <td>3415</td>\n",
       "      <td>A group of members in green uniforms walks wav...</td>\n",
       "      <td>A group of members in green uniforms walks wav...</td>\n",
       "      <td>Members of the procession</td>\n",
       "      <td>gold</td>\n",
       "      <td>pay the other coaches to cheer as people this ...</td>\n",
       "      <td>walk down the street holding small horn brass ...</td>\n",
       "      <td>is seen in the background.</td>\n",
       "      <td>are talking a couple of people playing a game ...</td>\n",
       "      <td>1</td>\n",
       "      <td>train</td>\n",
       "    </tr>\n",
       "    <tr>\n",
       "      <th>3</th>\n",
       "      <td>anetv_jkn6uvmqwh4</td>\n",
       "      <td>3417</td>\n",
       "      <td>A drum line passes by walking down the street ...</td>\n",
       "      <td>A drum line passes by walking down the street ...</td>\n",
       "      <td>Members of the procession</td>\n",
       "      <td>gen</td>\n",
       "      <td>are playing ping pong and celebrating one left...</td>\n",
       "      <td>wait slowly towards the cadets.</td>\n",
       "      <td>makes a square call and ends by jumping down i...</td>\n",
       "      <td>play and go back and forth hitting the drums w...</td>\n",
       "      <td>3</td>\n",
       "      <td>train</td>\n",
       "    </tr>\n",
       "  </tbody>\n",
       "</table>\n",
       "</div>"
      ],
      "text/plain": [
       "            video-id fold-ind  \\\n",
       "0  anetv_jkn6uvmqwh4     3416   \n",
       "1  anetv_jkn6uvmqwh4     3417   \n",
       "2  anetv_jkn6uvmqwh4     3415   \n",
       "3  anetv_jkn6uvmqwh4     3417   \n",
       "\n",
       "                                         startphrase  \\\n",
       "0  Members of the procession walk down the street...   \n",
       "1  A drum line passes by walking down the street ...   \n",
       "2  A group of members in green uniforms walks wav...   \n",
       "3  A drum line passes by walking down the street ...   \n",
       "\n",
       "                                               sent1  \\\n",
       "0  Members of the procession walk down the street...   \n",
       "1  A drum line passes by walking down the street ...   \n",
       "2  A group of members in green uniforms walks wav...   \n",
       "3  A drum line passes by walking down the street ...   \n",
       "\n",
       "                       sent2 gold-source  \\\n",
       "0                A drum line        gold   \n",
       "1  Members of the procession         gen   \n",
       "2  Members of the procession        gold   \n",
       "3  Members of the procession         gen   \n",
       "\n",
       "                                             ending0  \\\n",
       "0  passes by walking down the street playing thei...   \n",
       "1  are playing ping pong and celebrating one left...   \n",
       "2  pay the other coaches to cheer as people this ...   \n",
       "3  are playing ping pong and celebrating one left...   \n",
       "\n",
       "                                             ending1  \\\n",
       "0                        has heard approaching them.   \n",
       "1                    wait slowly towards the cadets.   \n",
       "2  walk down the street holding small horn brass ...   \n",
       "3                    wait slowly towards the cadets.   \n",
       "\n",
       "                                             ending2  \\\n",
       "0    arrives and they're outside dancing and asleep.   \n",
       "1  continues to play as well along the crowd alon...   \n",
       "2                         is seen in the background.   \n",
       "3  makes a square call and ends by jumping down i...   \n",
       "\n",
       "                                             ending3  label  split  \n",
       "0     turns the lead singer watches the performance.      0  train  \n",
       "1           continue to play marching, interspersed.      3  train  \n",
       "2  are talking a couple of people playing a game ...      1  train  \n",
       "3  play and go back and forth hitting the drums w...      3  train  "
      ]
     },
     "execution_count": 9,
     "metadata": {},
     "output_type": "execute_result"
    }
   ],
   "source": [
    "df.head(4)"
   ]
  },
  {
   "cell_type": "code",
   "execution_count": 10,
   "metadata": {
    "execution": {
     "iopub.execute_input": "2025-08-24T10:47:54.043214Z",
     "iopub.status.busy": "2025-08-24T10:47:54.042796Z",
     "iopub.status.idle": "2025-08-24T10:47:54.119374Z",
     "shell.execute_reply": "2025-08-24T10:47:54.118600Z",
     "shell.execute_reply.started": "2025-08-24T10:47:54.043190Z"
    },
    "trusted": true
   },
   "outputs": [
    {
     "name": "stdout",
     "output_type": "stream",
     "text": [
      "<class 'pandas.core.frame.DataFrame'>\n",
      "RangeIndex: 113557 entries, 0 to 113556\n",
      "Data columns (total 12 columns):\n",
      " #   Column       Non-Null Count   Dtype \n",
      "---  ------       --------------   ----- \n",
      " 0   video-id     113557 non-null  object\n",
      " 1   fold-ind     113557 non-null  object\n",
      " 2   startphrase  113557 non-null  object\n",
      " 3   sent1        113557 non-null  object\n",
      " 4   sent2        113557 non-null  object\n",
      " 5   gold-source  113557 non-null  object\n",
      " 6   ending0      113557 non-null  object\n",
      " 7   ending1      113557 non-null  object\n",
      " 8   ending2      113557 non-null  object\n",
      " 9   ending3      113557 non-null  object\n",
      " 10  label        113557 non-null  int64 \n",
      " 11  split        113557 non-null  object\n",
      "dtypes: int64(1), object(11)\n",
      "memory usage: 10.4+ MB\n"
     ]
    }
   ],
   "source": [
    "df.info()"
   ]
  },
  {
   "cell_type": "code",
   "execution_count": 11,
   "metadata": {
    "execution": {
     "iopub.execute_input": "2025-08-24T10:47:54.120384Z",
     "iopub.status.busy": "2025-08-24T10:47:54.120192Z",
     "iopub.status.idle": "2025-08-24T10:47:54.652479Z",
     "shell.execute_reply": "2025-08-24T10:47:54.651875Z",
     "shell.execute_reply.started": "2025-08-24T10:47:54.120369Z"
    },
    "trusted": true
   },
   "outputs": [
    {
     "name": "stderr",
     "output_type": "stream",
     "text": [
      "/usr/local/lib/python3.11/dist-packages/pandas/io/formats/format.py:1458: RuntimeWarning: invalid value encountered in greater\n",
      "  has_large_values = (abs_vals > 1e6).any()\n",
      "/usr/local/lib/python3.11/dist-packages/pandas/io/formats/format.py:1459: RuntimeWarning: invalid value encountered in less\n",
      "  has_small_values = ((abs_vals < 10 ** (-self.digits)) & (abs_vals > 0)).any()\n",
      "/usr/local/lib/python3.11/dist-packages/pandas/io/formats/format.py:1459: RuntimeWarning: invalid value encountered in greater\n",
      "  has_small_values = ((abs_vals < 10 ** (-self.digits)) & (abs_vals > 0)).any()\n"
     ]
    },
    {
     "data": {
      "text/html": [
       "<div>\n",
       "<style scoped>\n",
       "    .dataframe tbody tr th:only-of-type {\n",
       "        vertical-align: middle;\n",
       "    }\n",
       "\n",
       "    .dataframe tbody tr th {\n",
       "        vertical-align: top;\n",
       "    }\n",
       "\n",
       "    .dataframe thead th {\n",
       "        text-align: right;\n",
       "    }\n",
       "</style>\n",
       "<table border=\"1\" class=\"dataframe\">\n",
       "  <thead>\n",
       "    <tr style=\"text-align: right;\">\n",
       "      <th></th>\n",
       "      <th>video-id</th>\n",
       "      <th>fold-ind</th>\n",
       "      <th>startphrase</th>\n",
       "      <th>sent1</th>\n",
       "      <th>sent2</th>\n",
       "      <th>gold-source</th>\n",
       "      <th>ending0</th>\n",
       "      <th>ending1</th>\n",
       "      <th>ending2</th>\n",
       "      <th>ending3</th>\n",
       "      <th>label</th>\n",
       "      <th>split</th>\n",
       "    </tr>\n",
       "  </thead>\n",
       "  <tbody>\n",
       "    <tr>\n",
       "      <th>count</th>\n",
       "      <td>113557</td>\n",
       "      <td>113557</td>\n",
       "      <td>113557</td>\n",
       "      <td>113557</td>\n",
       "      <td>113557</td>\n",
       "      <td>113557</td>\n",
       "      <td>113557</td>\n",
       "      <td>113557</td>\n",
       "      <td>113557</td>\n",
       "      <td>113557</td>\n",
       "      <td>113557.000000</td>\n",
       "      <td>113557</td>\n",
       "    </tr>\n",
       "    <tr>\n",
       "      <th>unique</th>\n",
       "      <td>21615</td>\n",
       "      <td>20083</td>\n",
       "      <td>92221</td>\n",
       "      <td>91712</td>\n",
       "      <td>26602</td>\n",
       "      <td>2</td>\n",
       "      <td>108368</td>\n",
       "      <td>108270</td>\n",
       "      <td>108234</td>\n",
       "      <td>108490</td>\n",
       "      <td>NaN</td>\n",
       "      <td>3</td>\n",
       "    </tr>\n",
       "    <tr>\n",
       "      <th>top</th>\n",
       "      <td>lsmdc3047_LIFE_OF_PI-22387</td>\n",
       "      <td>8191</td>\n",
       "      <td>We see an opening title screen. We</td>\n",
       "      <td>We see an opening title screen.</td>\n",
       "      <td>Someone</td>\n",
       "      <td>gold</td>\n",
       "      <td>see the ending title screen.</td>\n",
       "      <td>talks to the camera.</td>\n",
       "      <td>talks to the camera.</td>\n",
       "      <td>talks to the camera.</td>\n",
       "      <td>NaN</td>\n",
       "      <td>train</td>\n",
       "    </tr>\n",
       "    <tr>\n",
       "      <th>freq</th>\n",
       "      <td>211</td>\n",
       "      <td>13</td>\n",
       "      <td>52</td>\n",
       "      <td>94</td>\n",
       "      <td>19005</td>\n",
       "      <td>87939</td>\n",
       "      <td>33</td>\n",
       "      <td>35</td>\n",
       "      <td>31</td>\n",
       "      <td>31</td>\n",
       "      <td>NaN</td>\n",
       "      <td>73546</td>\n",
       "    </tr>\n",
       "    <tr>\n",
       "      <th>mean</th>\n",
       "      <td>NaN</td>\n",
       "      <td>NaN</td>\n",
       "      <td>NaN</td>\n",
       "      <td>NaN</td>\n",
       "      <td>NaN</td>\n",
       "      <td>NaN</td>\n",
       "      <td>NaN</td>\n",
       "      <td>NaN</td>\n",
       "      <td>NaN</td>\n",
       "      <td>NaN</td>\n",
       "      <td>1.061194</td>\n",
       "      <td>NaN</td>\n",
       "    </tr>\n",
       "    <tr>\n",
       "      <th>std</th>\n",
       "      <td>NaN</td>\n",
       "      <td>NaN</td>\n",
       "      <td>NaN</td>\n",
       "      <td>NaN</td>\n",
       "      <td>NaN</td>\n",
       "      <td>NaN</td>\n",
       "      <td>NaN</td>\n",
       "      <td>NaN</td>\n",
       "      <td>NaN</td>\n",
       "      <td>NaN</td>\n",
       "      <td>1.392450</td>\n",
       "      <td>NaN</td>\n",
       "    </tr>\n",
       "    <tr>\n",
       "      <th>min</th>\n",
       "      <td>NaN</td>\n",
       "      <td>NaN</td>\n",
       "      <td>NaN</td>\n",
       "      <td>NaN</td>\n",
       "      <td>NaN</td>\n",
       "      <td>NaN</td>\n",
       "      <td>NaN</td>\n",
       "      <td>NaN</td>\n",
       "      <td>NaN</td>\n",
       "      <td>NaN</td>\n",
       "      <td>-1.000000</td>\n",
       "      <td>NaN</td>\n",
       "    </tr>\n",
       "    <tr>\n",
       "      <th>25%</th>\n",
       "      <td>NaN</td>\n",
       "      <td>NaN</td>\n",
       "      <td>NaN</td>\n",
       "      <td>NaN</td>\n",
       "      <td>NaN</td>\n",
       "      <td>NaN</td>\n",
       "      <td>NaN</td>\n",
       "      <td>NaN</td>\n",
       "      <td>NaN</td>\n",
       "      <td>NaN</td>\n",
       "      <td>0.000000</td>\n",
       "      <td>NaN</td>\n",
       "    </tr>\n",
       "    <tr>\n",
       "      <th>50%</th>\n",
       "      <td>NaN</td>\n",
       "      <td>NaN</td>\n",
       "      <td>NaN</td>\n",
       "      <td>NaN</td>\n",
       "      <td>NaN</td>\n",
       "      <td>NaN</td>\n",
       "      <td>NaN</td>\n",
       "      <td>NaN</td>\n",
       "      <td>NaN</td>\n",
       "      <td>NaN</td>\n",
       "      <td>1.000000</td>\n",
       "      <td>NaN</td>\n",
       "    </tr>\n",
       "    <tr>\n",
       "      <th>75%</th>\n",
       "      <td>NaN</td>\n",
       "      <td>NaN</td>\n",
       "      <td>NaN</td>\n",
       "      <td>NaN</td>\n",
       "      <td>NaN</td>\n",
       "      <td>NaN</td>\n",
       "      <td>NaN</td>\n",
       "      <td>NaN</td>\n",
       "      <td>NaN</td>\n",
       "      <td>NaN</td>\n",
       "      <td>2.000000</td>\n",
       "      <td>NaN</td>\n",
       "    </tr>\n",
       "    <tr>\n",
       "      <th>max</th>\n",
       "      <td>NaN</td>\n",
       "      <td>NaN</td>\n",
       "      <td>NaN</td>\n",
       "      <td>NaN</td>\n",
       "      <td>NaN</td>\n",
       "      <td>NaN</td>\n",
       "      <td>NaN</td>\n",
       "      <td>NaN</td>\n",
       "      <td>NaN</td>\n",
       "      <td>NaN</td>\n",
       "      <td>3.000000</td>\n",
       "      <td>NaN</td>\n",
       "    </tr>\n",
       "  </tbody>\n",
       "</table>\n",
       "</div>"
      ],
      "text/plain": [
       "                          video-id fold-ind  \\\n",
       "count                       113557   113557   \n",
       "unique                       21615    20083   \n",
       "top     lsmdc3047_LIFE_OF_PI-22387     8191   \n",
       "freq                           211       13   \n",
       "mean                           NaN      NaN   \n",
       "std                            NaN      NaN   \n",
       "min                            NaN      NaN   \n",
       "25%                            NaN      NaN   \n",
       "50%                            NaN      NaN   \n",
       "75%                            NaN      NaN   \n",
       "max                            NaN      NaN   \n",
       "\n",
       "                               startphrase                            sent1  \\\n",
       "count                               113557                           113557   \n",
       "unique                               92221                            91712   \n",
       "top     We see an opening title screen. We  We see an opening title screen.   \n",
       "freq                                    52                               94   \n",
       "mean                                   NaN                              NaN   \n",
       "std                                    NaN                              NaN   \n",
       "min                                    NaN                              NaN   \n",
       "25%                                    NaN                              NaN   \n",
       "50%                                    NaN                              NaN   \n",
       "75%                                    NaN                              NaN   \n",
       "max                                    NaN                              NaN   \n",
       "\n",
       "          sent2 gold-source                       ending0  \\\n",
       "count    113557      113557                        113557   \n",
       "unique    26602           2                        108368   \n",
       "top     Someone        gold  see the ending title screen.   \n",
       "freq      19005       87939                            33   \n",
       "mean        NaN         NaN                           NaN   \n",
       "std         NaN         NaN                           NaN   \n",
       "min         NaN         NaN                           NaN   \n",
       "25%         NaN         NaN                           NaN   \n",
       "50%         NaN         NaN                           NaN   \n",
       "75%         NaN         NaN                           NaN   \n",
       "max         NaN         NaN                           NaN   \n",
       "\n",
       "                     ending1               ending2               ending3  \\\n",
       "count                 113557                113557                113557   \n",
       "unique                108270                108234                108490   \n",
       "top     talks to the camera.  talks to the camera.  talks to the camera.   \n",
       "freq                      35                    31                    31   \n",
       "mean                     NaN                   NaN                   NaN   \n",
       "std                      NaN                   NaN                   NaN   \n",
       "min                      NaN                   NaN                   NaN   \n",
       "25%                      NaN                   NaN                   NaN   \n",
       "50%                      NaN                   NaN                   NaN   \n",
       "75%                      NaN                   NaN                   NaN   \n",
       "max                      NaN                   NaN                   NaN   \n",
       "\n",
       "                label   split  \n",
       "count   113557.000000  113557  \n",
       "unique            NaN       3  \n",
       "top               NaN   train  \n",
       "freq              NaN   73546  \n",
       "mean         1.061194     NaN  \n",
       "std          1.392450     NaN  \n",
       "min         -1.000000     NaN  \n",
       "25%          0.000000     NaN  \n",
       "50%          1.000000     NaN  \n",
       "75%          2.000000     NaN  \n",
       "max          3.000000     NaN  "
      ]
     },
     "execution_count": 11,
     "metadata": {},
     "output_type": "execute_result"
    }
   ],
   "source": [
    "df.describe(include='all')"
   ]
  },
  {
   "cell_type": "raw",
   "metadata": {},
   "source": [
    "print(df.columns)"
   ]
  },
  {
   "cell_type": "markdown",
   "metadata": {},
   "source": [
    "### Class distributions"
   ]
  },
  {
   "cell_type": "code",
   "execution_count": 12,
   "metadata": {
    "execution": {
     "iopub.execute_input": "2025-08-24T10:47:54.653459Z",
     "iopub.status.busy": "2025-08-24T10:47:54.653193Z",
     "iopub.status.idle": "2025-08-24T10:47:54.831757Z",
     "shell.execute_reply": "2025-08-24T10:47:54.830930Z",
     "shell.execute_reply.started": "2025-08-24T10:47:54.653436Z"
    },
    "trusted": true
   },
   "outputs": [
    {
     "data": {
      "image/png": "[encoded data removed]",
      "text/plain": [
       "<Figure size 640x480 with 1 Axes>"
      ]
     },
     "metadata": {},
     "output_type": "display_data"
    }
   ],
   "source": [
    "import matplotlib.pyplot as plt\n",
    "import seaborn as sns\n",
    "\n",
    "sns.countplot(x='label', data=df)\n",
    "plt.title(\"Distribution of Correct Answer Labels\")\n",
    "plt.xlabel(\"Correct Ending (0-3)\")\n",
    "plt.ylabel(\"Count\")\n",
    "plt.show()\n",
    " "
   ]
  },
  {
   "cell_type": "markdown",
   "metadata": {},
   "source": [
    "### Avg length of sent1, sent2, ending"
   ]
  },
  {
   "cell_type": "code",
   "execution_count": 13,
   "metadata": {
    "execution": {
     "iopub.execute_input": "2025-08-24T10:47:54.833245Z",
     "iopub.status.busy": "2025-08-24T10:47:54.832659Z",
     "iopub.status.idle": "2025-08-24T10:47:55.313009Z",
     "shell.execute_reply": "2025-08-24T10:47:55.312351Z",
     "shell.execute_reply.started": "2025-08-24T10:47:54.833223Z"
    },
    "trusted": true
   },
   "outputs": [
    {
     "name": "stdout",
     "output_type": "stream",
     "text": [
      "Average lengths:\n",
      "sent1: 11.54 words\n",
      "sent2: 2.70 words\n",
      "ending0: 8.67 words\n",
      "ending1: 8.69 words\n",
      "ending2: 8.66 words\n",
      "ending3: 8.65 words\n",
      "Max lengths:\n",
      "sent1: 74.00 words\n",
      "sent2: 76.00 words\n",
      "ending0: 25.00 words\n",
      "ending1: 25.00 words\n",
      "ending2: 25.00 words\n",
      "ending3: 25.00 words\n"
     ]
    }
   ],
   "source": [
    "df['sent1_len'] = df['sent1'].apply(lambda x: len(x.split()))\n",
    "df['sent2_len'] = df['sent2'].apply(lambda x: len(x.split()))\n",
    "for i in range(4):\n",
    "    df[f'ending{i}_len'] = df[f'ending{i}'].apply(lambda x: len(x.split()))\n",
    "    \n",
    "# Display averages\n",
    "print(\"Average lengths:\")\n",
    "print(f\"sent1: {df['sent1_len'].mean():.2f} words\")\n",
    "print(f\"sent2: {df['sent2_len'].mean():.2f} words\")\n",
    "for i in range(4):\n",
    "    print(f\"ending{i}: {df[f'ending{i}_len'].mean():.2f} words\")\n",
    "    \n",
    "# Display max\n",
    "print(\"Max lengths:\")\n",
    "print(f\"sent1: {df['sent1_len'].max():.2f} words\")\n",
    "print(f\"sent2: {df['sent2_len'].max():.2f} words\")\n",
    "for i in range(4):    \n",
    "    print(f\"ending{i}: {df[f'ending{i}_len'].max():.2f} words\")\n",
    "  "
   ]
  },
  {
   "cell_type": "markdown",
   "metadata": {},
   "source": [
    "### One full mcq example"
   ]
  },
  {
   "cell_type": "code",
   "execution_count": 14,
   "metadata": {
    "execution": {
     "iopub.execute_input": "2025-08-24T10:47:55.314054Z",
     "iopub.status.busy": "2025-08-24T10:47:55.313808Z",
     "iopub.status.idle": "2025-08-24T10:47:55.319373Z",
     "shell.execute_reply": "2025-08-24T10:47:55.318651Z",
     "shell.execute_reply.started": "2025-08-24T10:47:55.314036Z"
    },
    "trusted": true
   },
   "outputs": [
    {
     "name": "stdout",
     "output_type": "stream",
     "text": [
      "sent1: Members of the procession walk down the street holding small horn brass instruments.\n",
      "sent2: A drum line\n",
      "ending0: passes by walking down the street playing their instruments.\n",
      "Correct label: 0\n",
      "ending1: has heard approaching them.\n",
      "Correct label: 0\n",
      "ending2: arrives and they're outside dancing and asleep.\n",
      "Correct label: 0\n",
      "ending3: turns the lead singer watches the performance.\n",
      "Correct label: 0\n"
     ]
    }
   ],
   "source": [
    "i = 0\n",
    "print(\"sent1:\", df.loc[i, 'sent1'])\n",
    "print(\"sent2:\", df.loc[i, 'sent2'])\n",
    "for j in range(4):\n",
    "    print(f\"ending{j}:\", df.loc[i, f'ending{j}'])\n",
    "    print(\"Correct label:\", df.loc[i, 'label'])\n",
    "  "
   ]
  },
  {
   "cell_type": "markdown",
   "metadata": {},
   "source": [
    "## 4. Load Tokenizer"
   ]
  },
  {
   "cell_type": "code",
   "execution_count": 15,
   "metadata": {
    "execution": {
     "iopub.execute_input": "2025-08-24T10:47:55.320378Z",
     "iopub.status.busy": "2025-08-24T10:47:55.320082Z",
     "iopub.status.idle": "2025-08-24T10:47:55.624289Z",
     "shell.execute_reply": "2025-08-24T10:47:55.623469Z",
     "shell.execute_reply.started": "2025-08-24T10:47:55.320361Z"
    },
    "trusted": true
   },
   "outputs": [],
   "source": [
    "from transformers import AutoTokenizer\n",
    "# loading tokenizer\n",
    "tokenizer = AutoTokenizer.from_pretrained(\"google-bert/bert-base-uncased\")  "
   ]
  },
  {
   "cell_type": "markdown",
   "metadata": {},
   "source": [
    "## 5. Pre-Process the Dataset"
   ]
  },
  {
   "cell_type": "code",
   "execution_count": 50,
   "metadata": {
    "execution": {
     "iopub.execute_input": "2025-08-24T14:49:42.409530Z",
     "iopub.status.busy": "2025-08-24T14:49:42.408810Z",
     "iopub.status.idle": "2025-08-24T14:49:42.414965Z",
     "shell.execute_reply": "2025-08-24T14:49:42.414071Z",
     "shell.execute_reply.started": "2025-08-24T14:49:42.409504Z"
    },
    "trusted": true
   },
   "outputs": [],
   "source": [
    "def preprocess_swag(batch):\n",
    "    first_sentences = [s1 for s1 in batch['sent1'] for _ in range(4)]\n",
    "    second_sentences = [\n",
    "        batch['sent2'][i] + \" \" + batch[f'ending{j}'][i]\n",
    "        for i in range(len(batch['sent1']))\n",
    "        for j in range(4)\n",
    "    ]\n",
    "    \n",
    "    tokenized = tokenizer(\n",
    "        first_sentences,\n",
    "        second_sentences,\n",
    "        truncation=True,\n",
    "        padding=\"longest\"\n",
    "        )\n",
    "    # Unflatten: group every 4 items as a list\n",
    "    def regroup(values):\n",
    "        return [values[i:i + 4] for i in range(0, len(values), 4)]\n",
    "    \n",
    "    return {key: regroup(val) for key, val in tokenized.items()}\n",
    "\n"
   ]
  },
  {
   "cell_type": "markdown",
   "metadata": {},
   "source": [
    "## 6. Apply the preprocessing function"
   ]
  },
  {
   "cell_type": "code",
   "execution_count": 51,
   "metadata": {
    "execution": {
     "iopub.execute_input": "2025-08-24T14:49:46.964423Z",
     "iopub.status.busy": "2025-08-24T14:49:46.964173Z",
     "iopub.status.idle": "2025-08-24T14:50:39.806026Z",
     "shell.execute_reply": "2025-08-24T14:50:39.805246Z",
     "shell.execute_reply.started": "2025-08-24T14:49:46.964407Z"
    },
    "trusted": true
   },
   "outputs": [
    {
     "data": {
      "application/vnd.jupyter.widget-view+json": {
       "model_id": "30eb7fb8f00444cebc0203a1c56262ba",
       "version_major": 2,
       "version_minor": 0
      },
      "text/plain": [
       "Map:   0%|          | 0/73546 [00:00<?, ? examples/s]"
      ]
     },
     "metadata": {},
     "output_type": "display_data"
    },
    {
     "data": {
      "application/vnd.jupyter.widget-view+json": {
       "model_id": "5090f8578c484cdc97723110a0c25048",
       "version_major": 2,
       "version_minor": 0
      },
      "text/plain": [
       "Map:   0%|          | 0/20006 [00:00<?, ? examples/s]"
      ]
     },
     "metadata": {},
     "output_type": "display_data"
    },
    {
     "data": {
      "application/vnd.jupyter.widget-view+json": {
       "model_id": "8745a465f867445ebf9562fbb624c177",
       "version_major": 2,
       "version_minor": 0
      },
      "text/plain": [
       "Map:   0%|          | 0/20005 [00:00<?, ? examples/s]"
      ]
     },
     "metadata": {},
     "output_type": "display_data"
    }
   ],
   "source": [
    "# Apply preprocessing function with batch\n",
    "tokenized_dataset = {\n",
    "    split: dataset[split].map(preprocess_swag, batched=True)\n",
    "    for split in [\"train\", \"validation\", \"test\"]\n",
    "}\n",
    "  "
   ]
  },
  {
   "cell_type": "code",
   "execution_count": 53,
   "metadata": {
    "execution": {
     "iopub.execute_input": "2025-08-24T14:53:03.304252Z",
     "iopub.status.busy": "2025-08-24T14:53:03.303533Z",
     "iopub.status.idle": "2025-08-24T14:53:03.308332Z",
     "shell.execute_reply": "2025-08-24T14:53:03.307649Z",
     "shell.execute_reply.started": "2025-08-24T14:53:03.304229Z"
    },
    "trusted": true
   },
   "outputs": [],
   "source": [
    "# clean and finalize the dataset\n",
    "for split in [\"train\", \"validation\", \"test\"]:\n",
    "    if \"label\" in tokenized_dataset[split].column_names:\n",
    "        tokenized_dataset[split] = tokenized_dataset[split].rename_column(\"label\", \"labels\")\n",
    "        \n",
    "        keep_cols = ['input_ids', 'attention_mask', 'token_type_ids', 'labels']\n",
    "        tokenized_dataset[split] = tokenized_dataset[split].remove_columns(\n",
    "            [col for col in tokenized_dataset[split].column_names if col not in keep_cols]\n",
    "        )    "
   ]
  },
  {
   "cell_type": "markdown",
   "metadata": {},
   "source": [
    "## 7. Padding"
   ]
  },
  {
   "cell_type": "code",
   "execution_count": 19,
   "metadata": {
    "execution": {
     "iopub.execute_input": "2025-08-24T10:48:05.383640Z",
     "iopub.status.busy": "2025-08-24T10:48:05.383446Z",
     "iopub.status.idle": "2025-08-24T10:48:05.538515Z",
     "shell.execute_reply": "2025-08-24T10:48:05.537749Z",
     "shell.execute_reply.started": "2025-08-24T10:48:05.383624Z"
    },
    "trusted": true
   },
   "outputs": [],
   "source": [
    "from transformers.data.data_collator import DataCollatorForMultipleChoice\n",
    "\n",
    "data_collator = DataCollatorForMultipleChoice(tokenizer=tokenizer)\n"
   ]
  },
  {
   "cell_type": "markdown",
   "metadata": {},
   "source": [
    "## 8. Load Model"
   ]
  },
  {
   "cell_type": "code",
   "execution_count": 20,
   "metadata": {
    "execution": {
     "iopub.execute_input": "2025-08-24T10:48:05.539468Z",
     "iopub.status.busy": "2025-08-24T10:48:05.539262Z",
     "iopub.status.idle": "2025-08-24T10:48:05.818330Z",
     "shell.execute_reply": "2025-08-24T10:48:05.817745Z",
     "shell.execute_reply.started": "2025-08-24T10:48:05.539451Z"
    },
    "trusted": true
   },
   "outputs": [
    {
     "name": "stderr",
     "output_type": "stream",
     "text": [
      "Some weights of BertForMultipleChoice were not initialized from the model checkpoint at google-bert/bert-base-uncased and are newly initialized: ['classifier.bias', 'classifier.weight']\n",
      "You should probably TRAIN this model on a down-stream task to be able to use it for predictions and inference.\n"
     ]
    }
   ],
   "source": [
    "from transformers import AutoModelForMultipleChoice\n",
    "\n",
    "model = AutoModelForMultipleChoice.from_pretrained(\"google-bert/bert-base-uncased\") "
   ]
  },
  {
   "cell_type": "markdown",
   "metadata": {},
   "source": [
    "## 9. Test Model on Dataset"
   ]
  },
  {
   "cell_type": "code",
   "execution_count": 21,
   "metadata": {
    "execution": {
     "iopub.execute_input": "2025-08-24T10:48:05.819316Z",
     "iopub.status.busy": "2025-08-24T10:48:05.819067Z",
     "iopub.status.idle": "2025-08-24T10:48:06.110213Z",
     "shell.execute_reply": "2025-08-24T10:48:06.109617Z",
     "shell.execute_reply.started": "2025-08-24T10:48:05.819299Z"
    },
    "trusted": true
   },
   "outputs": [],
   "source": [
    "import torch\n",
    "from torch.utils.data import DataLoader\n",
    "from tqdm import tqdm\n",
    "\n",
    "device = torch.device(\"cuda\" if torch.cuda.is_available() else \"cpu\")\n",
    "model.to(device)\n",
    "\n",
    "# This will store (method, accuracy)\n",
    "icl_results = []"
   ]
  },
  {
   "cell_type": "markdown",
   "metadata": {},
   "source": [
    "### Test case analysis"
   ]
  },
  {
   "cell_type": "code",
   "execution_count": 22,
   "metadata": {
    "execution": {
     "iopub.execute_input": "2025-08-24T10:48:06.111200Z",
     "iopub.status.busy": "2025-08-24T10:48:06.110959Z",
     "iopub.status.idle": "2025-08-24T10:48:06.316627Z",
     "shell.execute_reply": "2025-08-24T10:48:06.315931Z",
     "shell.execute_reply.started": "2025-08-24T10:48:06.111181Z"
    },
    "trusted": true
   },
   "outputs": [
    {
     "name": "stdout",
     "output_type": "stream",
     "text": [
      "📌 Context: Students lower their eyes nervously. She\n",
      "🔘 Options:\n",
      "   ❌ Choice 0: pats her shoulder, then saunters toward someone.\n",
      "   ❌ Choice 1: turns with two students.\n",
      "   ✅ Choice 2: walks slowly towards someone.\n",
      "👉 ❌ Choice 3: wheels around as her dog thunders out.\n",
      "🧠 Model Prediction: Choice 3\n",
      "✔️ Ground Truth: Choice 2\n"
     ]
    }
   ],
   "source": [
    "import torch\n",
    "\n",
    "# Device setup (should match your model)\n",
    "device = torch.device(\"cuda\" if torch.cuda.is_available() else \"cpu\")\n",
    "model.to(device)\n",
    "\n",
    "# Pick a single example to inspect\n",
    "i = 0  # You can change this index to test other samples\n",
    "example = tokenized_dataset[\"validation\"][i]\n",
    "raw_example = dataset[\"validation\"][i]  # un-tokenized version for readable display\n",
    "\n",
    "# Convert inputs to tensor format (batch size = 1) and move to device\n",
    "input = {\n",
    "    k: torch.tensor([example[k]]).to(device)\n",
    "    for k in [\"input_ids\", \"attention_mask\", \"token_type_ids\"]\n",
    "}\n",
    "\n",
    "# Run the model and get prediction\n",
    "model.eval()\n",
    "with torch.no_grad():\n",
    "    outputs = model(**input)\n",
    "    logits = outputs.logits\n",
    "    predicted_class = torch.argmax(logits, dim=1).item()\n",
    "\n",
    "# Display the context\n",
    "context = raw_example[\"sent1\"] + \" \" + raw_example[\"sent2\"]\n",
    "print(f\"📌 Context: {context}\")\n",
    "\n",
    "# Display all choices with prediction and ground truth\n",
    "print(\"🔘 Options:\")\n",
    "for j in range(4):\n",
    "    option_text = raw_example[f\"ending{j}\"]\n",
    "    prefix = \"✅\" if j == raw_example[\"label\"] else \"❌\"\n",
    "    marker = \"👉\" if j == predicted_class else \"  \"\n",
    "    print(f\"{marker} {prefix} Choice {j}: {option_text}\")\n",
    "\n",
    "# Final Summary\n",
    "print(f\"🧠 Model Prediction: Choice {predicted_class}\")\n",
    "print(f\"✔️ Ground Truth: Choice {raw_example['label']}\")\n"
   ]
  },
  {
   "cell_type": "markdown",
   "metadata": {},
   "source": [
    "### Full valildation set evaluation"
   ]
  },
  {
   "cell_type": "code",
   "execution_count": 23,
   "metadata": {
    "execution": {
     "iopub.execute_input": "2025-08-24T10:48:06.317541Z",
     "iopub.status.busy": "2025-08-24T10:48:06.317332Z",
     "iopub.status.idle": "2025-08-24T10:51:51.367008Z",
     "shell.execute_reply": "2025-08-24T10:51:51.366048Z",
     "shell.execute_reply.started": "2025-08-24T10:48:06.317524Z"
    },
    "trusted": true
   },
   "outputs": [
    {
     "name": "stderr",
     "output_type": "stream",
     "text": [
      "Evaluating Baseline:   0%|          | 0/1251 [00:00<?, ?it/s]You're using a BertTokenizerFast tokenizer. Please note that with a fast tokenizer, using the `__call__` method is faster than using a method to encode the text followed by a call to the `pad` method to get a padded encoding.\n",
      "Evaluating Baseline: 100%|██████████| 1251/1251 [03:45<00:00,  5.56it/s]"
     ]
    },
    {
     "name": "stdout",
     "output_type": "stream",
     "text": [
      "📊 Baseline Accuracy: 39.16%\n"
     ]
    },
    {
     "name": "stderr",
     "output_type": "stream",
     "text": [
      "\n"
     ]
    }
   ],
   "source": [
    "val_loader = DataLoader(\n",
    "    tokenized_dataset[\"validation\"],\n",
    "    batch_size=16,\n",
    "    collate_fn=data_collator)\n",
    "\n",
    "model.eval()\n",
    "correct = 0\n",
    "total = 0\n",
    "\n",
    "for batch in tqdm(val_loader, desc=\"Evaluating Baseline\"):\n",
    "    batch = {k: v.to(device) for k, v in batch.items()}\n",
    "    with torch.no_grad():\n",
    "        outputs = model(**batch)\n",
    "        predictions = torch.argmax(outputs.logits, dim=1)\n",
    "        correct += (predictions == batch[\"labels\"]).sum().item()\n",
    "        total += batch[\"labels\"].size(0)\n",
    "        \n",
    "baseline_acc = 100*(correct / total)\n",
    "print(f\"📊 Baseline Accuracy: {baseline_acc:.2f}%\")\n",
    "icl_results.append((\"Baseline (No ICL)\", baseline_acc))\n",
    "   "
   ]
  },
  {
   "cell_type": "markdown",
   "metadata": {},
   "source": [
    "## 10. In-Context Learning"
   ]
  },
  {
   "cell_type": "markdown",
   "metadata": {},
   "source": [
    "### Few-shot"
   ]
  },
  {
   "cell_type": "code",
   "execution_count": 24,
   "metadata": {
    "execution": {
     "iopub.execute_input": "2025-08-24T10:51:51.368527Z",
     "iopub.status.busy": "2025-08-24T10:51:51.367993Z",
     "iopub.status.idle": "2025-08-24T10:51:51.374608Z",
     "shell.execute_reply": "2025-08-24T10:51:51.373876Z",
     "shell.execute_reply.started": "2025-08-24T10:51:51.368499Z"
    },
    "trusted": true
   },
   "outputs": [],
   "source": [
    "from transformers import AutoModelForMultipleChoice\n",
    "import torch\n",
    "from torch.utils.data import DataLoader\n",
    "from transformers import DataCollatorForMultipleChoice\n",
    "from datasets import Dataset\n",
    "from tqdm import tqdm\n",
    "\n",
    "\n",
    "# Select 5-shot ICL examples from validation set\n",
    "fewshot_indices = [0, 1, 2, 3, 4]\n",
    "fewshot_examples = [dataset[\"validation\"][i] for i in fewshot_indices]\n",
    "\n",
    "# Build the static few-shot prompt\n",
    "fewshot_prompt = \"\"\n",
    "for ex in fewshot_examples:\n",
    "    fewshot_prompt += f\"Context: {ex['sent1']} {ex['sent2']}\\n\"\n",
    "    for j in range(4):\n",
    "        fewshot_prompt += f\"{chr(65+j)}. {ex[f'ending{j}']}\\n\"\n",
    "    fewshot_prompt += f\"Answer: {chr(65 + ex['label'])}\\n\\n\"\n"
   ]
  },
  {
   "cell_type": "code",
   "execution_count": 25,
   "metadata": {
    "execution": {
     "iopub.execute_input": "2025-08-24T10:51:51.375665Z",
     "iopub.status.busy": "2025-08-24T10:51:51.375454Z",
     "iopub.status.idle": "2025-08-24T10:51:51.394173Z",
     "shell.execute_reply": "2025-08-24T10:51:51.393463Z",
     "shell.execute_reply.started": "2025-08-24T10:51:51.375649Z"
    },
    "trusted": true
   },
   "outputs": [],
   "source": [
    "# Define the ICL preprocessing function\n",
    "def preprocess_fewshot_icl_batch(batch):\n",
    "    prompts = []\n",
    "    first_sentences = []\n",
    "    second_sentences = []\n",
    "\n",
    "    for i in range(len(batch['sent1'])):\n",
    "        prompt = fewshot_prompt + f\"\\nContext: {batch['sent1'][i]} {batch['sent2'][i]}\"\n",
    "        first_sentences.extend([prompt] * 4)\n",
    "        second_sentences.extend([\n",
    "            f\"{chr(65 + j)}. {batch[f'ending{j}'][i]}\" for j in range(4)\n",
    "        ])\n",
    "\n",
    "    # print(first_sentences)\n",
    "    # print(second_sentences)\n",
    "    tokenized = tokenizer(first_sentences, second_sentences, truncation=True, padding=\"longest\")\n",
    "\n",
    "    def regroup(values): return [values[i:i+4] for i in range(0, len(values), 4)]\n",
    "    result = {k: regroup(v) for k, v in tokenized.items()}\n",
    "    result[\"labels\"] = batch[\"label\"]\n",
    "    return result\n"
   ]
  },
  {
   "cell_type": "code",
   "execution_count": 26,
   "metadata": {
    "execution": {
     "iopub.execute_input": "2025-08-24T10:51:51.394982Z",
     "iopub.status.busy": "2025-08-24T10:51:51.394777Z",
     "iopub.status.idle": "2025-08-24T10:51:51.420717Z",
     "shell.execute_reply": "2025-08-24T10:51:51.420122Z",
     "shell.execute_reply.started": "2025-08-24T10:51:51.394967Z"
    },
    "trusted": true
   },
   "outputs": [],
   "source": [
    "fewshot_icl_dataset = dataset[\"validation\"].map(preprocess_fewshot_icl_batch, batched=True)"
   ]
  },
  {
   "cell_type": "code",
   "execution_count": 27,
   "metadata": {
    "execution": {
     "iopub.execute_input": "2025-08-24T10:51:51.421669Z",
     "iopub.status.busy": "2025-08-24T10:51:51.421488Z",
     "iopub.status.idle": "2025-08-24T10:51:51.436179Z",
     "shell.execute_reply": "2025-08-24T10:51:51.435435Z",
     "shell.execute_reply.started": "2025-08-24T10:51:51.421654Z"
    },
    "trusted": true
   },
   "outputs": [],
   "source": [
    "# 1) Clean & finalize the few-shot ICL dataset\n",
    "\n",
    "# If the old 'label' column still exists, drop it\\nif \"label\" in fewshot_icl_dataset.column_names:\n",
    "fewshot_icl_dataset = fewshot_icl_dataset.remove_columns([\"label\"])\n",
    "\n",
    "# Now keep only the required MCQ fields plus 'labels'\n",
    "keep_cols = [\"input_ids\", \"attention_mask\", \"token_type_ids\", \"labels\"]\n",
    "fewshot_icl_dataset = fewshot_icl_dataset.remove_columns(\n",
    "    [c for c in fewshot_icl_dataset.column_names if c not in keep_cols]\n",
    ")     "
   ]
  },
  {
   "cell_type": "code",
   "execution_count": 28,
   "metadata": {
    "execution": {
     "iopub.execute_input": "2025-08-24T10:51:51.437372Z",
     "iopub.status.busy": "2025-08-24T10:51:51.437092Z",
     "iopub.status.idle": "2025-08-24T11:11:56.511859Z",
     "shell.execute_reply": "2025-08-24T11:11:56.511172Z",
     "shell.execute_reply.started": "2025-08-24T10:51:51.437351Z"
    },
    "trusted": true
   },
   "outputs": [
    {
     "name": "stderr",
     "output_type": "stream",
     "text": [
      "Evaluating Few-Shot ICL: 100%|██████████| 2501/2501 [20:05<00:00,  2.08it/s]"
     ]
    },
    {
     "name": "stdout",
     "output_type": "stream",
     "text": [
      "📊 Few-Shot ICL Accuracy: 37.66%\n"
     ]
    },
    {
     "name": "stderr",
     "output_type": "stream",
     "text": [
      "\n"
     ]
    }
   ],
   "source": [
    "# 2) Create DataLoader with your MCQ collator\n",
    "fewshot_icl_loader = DataLoader(\n",
    "    fewshot_icl_dataset,\n",
    "    batch_size=8,\n",
    "    collate_fn=data_collator\n",
    ")\n",
    "\n",
    "# 3) Evaluate Few-Shot ICL\n",
    "correct = 0\n",
    "total = 0\n",
    "model.eval()\n",
    "\n",
    "with torch.no_grad():\n",
    "    for batch in tqdm(fewshot_icl_loader, desc=\"Evaluating Few-Shot ICL\"):\n",
    "        batch = {k: v.to(device) for k, v in batch.items()}\n",
    "        outputs = model(**batch)\n",
    "        preds = torch.argmax(outputs.logits, dim=1)\n",
    "        correct += (preds == batch[\"labels\"]).sum().item()\n",
    "        total += batch[\"labels\"].size(0)\n",
    "    \n",
    "few_shot_accuracy = 100*(correct / total)\n",
    "print(f\"📊 Few-Shot ICL Accuracy: {few_shot_accuracy:.2f}%\")\n",
    "icl_results.append((\"Few shot learning (ICL)\", few_shot_accuracy))\n",
    "    "
   ]
  },
  {
   "cell_type": "markdown",
   "metadata": {},
   "source": [
    "### Zero-shot with chain of thought (COT)"
   ]
  },
  {
   "cell_type": "code",
   "execution_count": 29,
   "metadata": {
    "execution": {
     "iopub.execute_input": "2025-08-24T11:11:56.512884Z",
     "iopub.status.busy": "2025-08-24T11:11:56.512668Z",
     "iopub.status.idle": "2025-08-24T11:11:56.516477Z",
     "shell.execute_reply": "2025-08-24T11:11:56.515813Z",
     "shell.execute_reply.started": "2025-08-24T11:11:56.512867Z"
    },
    "trusted": true
   },
   "outputs": [],
   "source": [
    "# 1) Build the CoT prompt prefix\n",
    "cot_prefix = \"Let's think step by step.\\n\\n\""
   ]
  },
  {
   "cell_type": "code",
   "execution_count": 30,
   "metadata": {
    "execution": {
     "iopub.execute_input": "2025-08-24T11:11:56.517476Z",
     "iopub.status.busy": "2025-08-24T11:11:56.517251Z",
     "iopub.status.idle": "2025-08-24T11:11:56.531976Z",
     "shell.execute_reply": "2025-08-24T11:11:56.531351Z",
     "shell.execute_reply.started": "2025-08-24T11:11:56.517459Z"
    },
    "trusted": true
   },
   "outputs": [],
   "source": [
    "# 2) Define the CoT preprocessing fn\n",
    "def preprocess_cot_batch(batch):\n",
    "    first_sentences = []\n",
    "    second_sentences = []\n",
    "\n",
    "    for i in range(len(batch[\"sent1\"])):\n",
    "        # prepend the chain-of-thought instruction before each example\n",
    "        prompt = cot_prefix + f\"Context: {batch['sent1'][i]} {batch['sent2'][i]}\"\n",
    "        # repeat for the 4 choices\n",
    "        first_sentences.extend([prompt] * 4)\n",
    "        second_sentences.extend([\n",
    "            f\"{chr(65 + j)}. {batch[f'ending{j}'][i]}\" for j in range(4)\n",
    "        ])\n",
    "\n",
    "    # tokenize exactly as before\n",
    "    tokenized = tokenizer(first_sentences, second_sentences,\n",
    "                          truncation=True, padding=\"longest\")\n",
    "\n",
    "    # regroup back into (batch_size, 4, seq_len)\n",
    "    def regroup(vals): return [vals[i : i + 4] for i in range(0, len(vals), 4)]\n",
    "    result = {k: regroup(v) for k, v in tokenized.items()}\n",
    "    # carry label forward\n",
    "    result[\"labels\"] = batch[\"label\"]\n",
    "    return result\n"
   ]
  },
  {
   "cell_type": "code",
   "execution_count": 31,
   "metadata": {
    "execution": {
     "iopub.execute_input": "2025-08-24T11:11:56.532835Z",
     "iopub.status.busy": "2025-08-24T11:11:56.532660Z",
     "iopub.status.idle": "2025-08-24T11:11:56.560607Z",
     "shell.execute_reply": "2025-08-24T11:11:56.559774Z",
     "shell.execute_reply.started": "2025-08-24T11:11:56.532822Z"
    },
    "trusted": true
   },
   "outputs": [],
   "source": [
    "# 3) Map over validation set\n",
    "cot_dataset = dataset[\"validation\"].map(\n",
    "    preprocess_cot_batch,\n",
    "    batched=True,\n",
    "    remove_columns=dataset[\"validation\"].column_names  # drop raw cols\n",
    ")\n"
   ]
  },
  {
   "cell_type": "code",
   "execution_count": 32,
   "metadata": {
    "execution": {
     "iopub.execute_input": "2025-08-24T11:11:56.561489Z",
     "iopub.status.busy": "2025-08-24T11:11:56.561295Z",
     "iopub.status.idle": "2025-08-24T11:11:56.571687Z",
     "shell.execute_reply": "2025-08-24T11:11:56.571158Z",
     "shell.execute_reply.started": "2025-08-24T11:11:56.561473Z"
    },
    "trusted": true
   },
   "outputs": [],
   "source": [
    "# 4) Clean up columns (drop old 'label' if still there)\n",
    "if \"label\" in cot_dataset.column_names:\n",
    "    cot_dataset = cot_dataset.remove_columns([\"label\"])\n",
    "keep = [\"input_ids\", \"attention_mask\", \"token_type_ids\", \"labels\"]\n",
    "cot_dataset = cot_dataset.remove_columns(\n",
    "    [c for c in cot_dataset.column_names if c not in keep]\n",
    ")"
   ]
  },
  {
   "cell_type": "code",
   "execution_count": 33,
   "metadata": {
    "execution": {
     "iopub.execute_input": "2025-08-24T11:11:56.572618Z",
     "iopub.status.busy": "2025-08-24T11:11:56.572421Z",
     "iopub.status.idle": "2025-08-24T11:16:13.841184Z",
     "shell.execute_reply": "2025-08-24T11:16:13.840509Z",
     "shell.execute_reply.started": "2025-08-24T11:11:56.572602Z"
    },
    "trusted": true
   },
   "outputs": [
    {
     "name": "stderr",
     "output_type": "stream",
     "text": [
      "Evaluating Zero-Shot CoT: 100%|██████████| 2501/2501 [04:17<00:00,  9.72it/s]"
     ]
    },
    {
     "name": "stdout",
     "output_type": "stream",
     "text": [
      "\n",
      "📊 Zero-Shot CoT Accuracy: 40.08%\n"
     ]
    },
    {
     "name": "stderr",
     "output_type": "stream",
     "text": [
      "\n"
     ]
    }
   ],
   "source": [
    "# 5) Create a DataLoader\n",
    "cot_loader = DataLoader(\n",
    "    cot_dataset,\n",
    "    batch_size=8,\n",
    "    collate_fn=data_collator\n",
    ")\n",
    "\n",
    "# 6) Evaluate Zero-Shot CoT\n",
    "correct = 0\n",
    "total = 0\n",
    "model.eval()\n",
    "\n",
    "with torch.no_grad():\n",
    "    for batch in tqdm(cot_loader, desc=\"Evaluating Zero-Shot CoT\"):\n",
    "        batch = {k: v.to(device) for k, v in batch.items()}\n",
    "        outputs = model(**batch)\n",
    "        preds = torch.argmax(outputs.logits, dim=1)\n",
    "        correct += (preds == batch[\"labels\"]).sum().item()\n",
    "        total += batch[\"labels\"].size(0)\n",
    "\n",
    "cot_accuracy = 100*(correct / total)\n",
    "print(f\"\\n📊 Zero-Shot CoT Accuracy: {cot_accuracy:.2f}%\")\n",
    "icl_results.append((\"Chain of Thought (ICL)\", cot_accuracy))\n"
   ]
  },
  {
   "cell_type": "markdown",
   "metadata": {},
   "source": [
    "### Comparison table"
   ]
  },
  {
   "cell_type": "code",
   "execution_count": 34,
   "metadata": {
    "execution": {
     "iopub.execute_input": "2025-08-24T11:16:13.842104Z",
     "iopub.status.busy": "2025-08-24T11:16:13.841895Z",
     "iopub.status.idle": "2025-08-24T11:16:13.975649Z",
     "shell.execute_reply": "2025-08-24T11:16:13.974849Z",
     "shell.execute_reply.started": "2025-08-24T11:16:13.842086Z"
    },
    "trusted": true
   },
   "outputs": [
    {
     "data": {
      "image/png": "[encoded data removed]",
      "text/plain": [
       "<Figure size 800x400 with 1 Axes>"
      ]
     },
     "metadata": {},
     "output_type": "display_data"
    }
   ],
   "source": [
    "import pandas as pd\n",
    "import matplotlib.pyplot as plt\n",
    "import seaborn as sns\n",
    "\n",
    "comparison_df = pd.DataFrame(icl_results, columns=[\"Method\", \"Accuracy\"])\n",
    "comparison_df = comparison_df.sort_values(\"Accuracy\", ascending=False).reset_index(drop=True)\n",
    "\n",
    "plt.figure(figsize=(8, 4))\n",
    "sns.barplot(data=comparison_df, x=\"Accuracy\", y=\"Method\", palette=\"crest\")\n",
    "plt.title(\"Comparison of ICL Methods on SWAG Validation Set\")\n",
    "plt.xlim(0, 100)\n",
    "plt.xlabel(\"Validation Accuracy\")\n",
    "plt.tight_layout()\n",
    "plt.show()\n"
   ]
  },
  {
   "cell_type": "markdown",
   "metadata": {},
   "source": [
    "## 11. Fine-Tune Bert"
   ]
  },
  {
   "cell_type": "code",
   "execution_count": 35,
   "metadata": {
    "execution": {
     "iopub.execute_input": "2025-08-24T11:16:13.976703Z",
     "iopub.status.busy": "2025-08-24T11:16:13.976488Z",
     "iopub.status.idle": "2025-08-24T11:16:14.476702Z",
     "shell.execute_reply": "2025-08-24T11:16:14.476153Z",
     "shell.execute_reply.started": "2025-08-24T11:16:13.976679Z"
    },
    "trusted": true
   },
   "outputs": [],
   "source": [
    "from transformers import AutoModelForMultipleChoice, TrainingArguments, Trainer, SchedulerType\n",
    "from peft       import LoraConfig, get_peft_model, TaskType\n",
    "import numpy    as np\n",
    "from evaluate   import load\n"
   ]
  },
  {
   "cell_type": "code",
   "execution_count": 36,
   "metadata": {
    "execution": {
     "iopub.execute_input": "2025-08-24T11:16:14.477653Z",
     "iopub.status.busy": "2025-08-24T11:16:14.477447Z",
     "iopub.status.idle": "2025-08-24T11:16:14.517451Z",
     "shell.execute_reply": "2025-08-24T11:16:14.516876Z",
     "shell.execute_reply.started": "2025-08-24T11:16:14.477636Z"
    },
    "trusted": true
   },
   "outputs": [],
   "source": [
    "train_ds = tokenized_dataset[\"train\"]\n",
    "eval_ds  = tokenized_dataset[\"validation\"]\n",
    "\n",
    "base_model = model\n",
    "base_model.to(device)\n",
    "\n",
    "# Config (wrap bert with lora)\n",
    "lora_cfg = LoraConfig(\n",
    "    r=8,\n",
    "    lora_alpha=16,\n",
    "    target_modules=[\"query\", \"value\"],\n",
    "    lora_dropout=0.1,\n",
    "    bias=\"none\",\n",
    "    task_type=TaskType.SEQ_CLS,\n",
    ")\n",
    "model_with_lora = get_peft_model(base_model, lora_cfg)\n"
   ]
  },
  {
   "cell_type": "markdown",
   "metadata": {},
   "source": [
    "### Fine-tuning loop"
   ]
  },
  {
   "cell_type": "code",
   "execution_count": 37,
   "metadata": {
    "execution": {
     "iopub.execute_input": "2025-08-24T11:16:14.518343Z",
     "iopub.status.busy": "2025-08-24T11:16:14.518141Z",
     "iopub.status.idle": "2025-08-24T13:43:14.669478Z",
     "shell.execute_reply": "2025-08-24T13:43:14.668864Z",
     "shell.execute_reply.started": "2025-08-24T11:16:14.518326Z"
    },
    "trusted": true
   },
   "outputs": [
    {
     "data": {
      "application/vnd.jupyter.widget-view+json": {
       "model_id": "c0b6541e05784428bfd6ff0e3df42ba1",
       "version_major": 2,
       "version_minor": 0
      },
      "text/plain": [
       "Downloading builder script: 0.00B [00:00, ?B/s]"
      ]
     },
     "metadata": {},
     "output_type": "display_data"
    },
    {
     "name": "stderr",
     "output_type": "stream",
     "text": [
      "PyTorch: setting up devices\n",
      "/tmp/ipykernel_180/302647636.py:61: FutureWarning: `tokenizer` is deprecated and will be removed in version 5.0.0 for `Trainer.__init__`. Use `processing_class` instead.\n",
      "  trainer = Trainer(\n",
      "No label_names provided for model class `PeftModelForSequenceClassification`. Since `PeftModel` hides base models input arguments, if label_names is not given, label_names can't be set automatically within `Trainer`. Note that empty label_names list will be used instead.\n",
      "***** Running training *****\n",
      "  Num examples = 73,546\n",
      "  Num Epochs = 3\n",
      "  Instantaneous batch size per device = 16\n",
      "  Total train batch size (w. parallel, distributed & accumulation) = 64\n",
      "  Gradient Accumulation steps = 4\n",
      "  Total optimization steps = 3,450\n",
      "  Number of trainable parameters = 295,681\n"
     ]
    },
    {
     "data": {
      "text/html": [
       "\n",
       "    <div>\n",
       "      \n",
       "      <progress value='3450' max='3450' style='width:300px; height:20px; vertical-align: middle;'></progress>\n",
       "      [3450/3450 2:26:56, Epoch 3/3]\n",
       "    </div>\n",
       "    <table border=\"1\" class=\"dataframe\">\n",
       "  <thead>\n",
       " <tr style=\"text-align: left;\">\n",
       "      <th>Step</th>\n",
       "      <th>Training Loss</th>\n",
       "      <th>Validation Loss</th>\n",
       "      <th>Accuracy</th>\n",
       "    </tr>\n",
       "  </thead>\n",
       "  <tbody>\n",
       "    <tr>\n",
       "      <td>500</td>\n",
       "      <td>1.008200</td>\n",
       "      <td>0.855875</td>\n",
       "      <td>0.660702</td>\n",
       "    </tr>\n",
       "    <tr>\n",
       "      <td>1000</td>\n",
       "      <td>0.932700</td>\n",
       "      <td>0.776682</td>\n",
       "      <td>0.698640</td>\n",
       "    </tr>\n",
       "    <tr>\n",
       "      <td>1500</td>\n",
       "      <td>0.896100</td>\n",
       "      <td>0.743415</td>\n",
       "      <td>0.711836</td>\n",
       "    </tr>\n",
       "    <tr>\n",
       "      <td>2000</td>\n",
       "      <td>0.895900</td>\n",
       "      <td>0.721652</td>\n",
       "      <td>0.718085</td>\n",
       "    </tr>\n",
       "    <tr>\n",
       "      <td>2500</td>\n",
       "      <td>0.876900</td>\n",
       "      <td>0.708561</td>\n",
       "      <td>0.725132</td>\n",
       "    </tr>\n",
       "    <tr>\n",
       "      <td>3000</td>\n",
       "      <td>0.855200</td>\n",
       "      <td>0.701657</td>\n",
       "      <td>0.727882</td>\n",
       "    </tr>\n",
       "  </tbody>\n",
       "</table><p>"
      ],
      "text/plain": [
       "<IPython.core.display.HTML object>"
      ]
     },
     "metadata": {},
     "output_type": "display_data"
    },
    {
     "name": "stdout",
     "output_type": "stream",
     "text": [
      "[step 50] {'loss': 1.386, 'grad_norm': 1.5575599670410156, 'learning_rate': 5.681159420289856e-06, 'epoch': 0.04350663476180117}\n",
      "[step 100] {'loss': 1.3871, 'grad_norm': 1.056244969367981, 'learning_rate': 1.1478260869565218e-05, 'epoch': 0.08701326952360235}\n",
      "[step 150] {'loss': 1.3743, 'grad_norm': 0.960759162902832, 'learning_rate': 1.727536231884058e-05, 'epoch': 0.13051990428540353}\n",
      "[step 200] {'loss': 1.3534, 'grad_norm': 1.1196753978729248, 'learning_rate': 2.3072463768115943e-05, 'epoch': 0.1740265390472047}\n",
      "[step 250] {'loss': 1.3077, 'grad_norm': 0.9742984175682068, 'learning_rate': 2.8869565217391307e-05, 'epoch': 0.2175331738090059}\n",
      "[step 300] {'loss': 1.1986, 'grad_norm': 2.568655490875244, 'learning_rate': 3.466666666666667e-05, 'epoch': 0.26103980857080705}\n",
      "[step 350] {'loss': 1.1444, 'grad_norm': 1.5619215965270996, 'learning_rate': 3.994847020933978e-05, 'epoch': 0.3045464433326082}\n",
      "[step 400] {'loss': 1.054, 'grad_norm': 2.419137477874756, 'learning_rate': 3.930434782608696e-05, 'epoch': 0.3480530780944094}\n",
      "[step 450] {'loss': 1.0306, 'grad_norm': 1.4679169654846191, 'learning_rate': 3.8660225442834146e-05, 'epoch': 0.39155971285621055}\n"
     ]
    },
    {
     "name": "stderr",
     "output_type": "stream",
     "text": [
      "\n",
      "***** Running Evaluation *****\n",
      "  Num examples = 20006\n",
      "  Batch size = 16\n"
     ]
    },
    {
     "name": "stdout",
     "output_type": "stream",
     "text": [
      "[step 500] {'loss': 1.0082, 'grad_norm': 2.427065372467041, 'learning_rate': 3.801610305958132e-05, 'epoch': 0.4350663476180118}\n",
      "[step 500] {'eval_loss': 0.8558745980262756, 'eval_accuracy': 0.660701789463161, 'eval_runtime': 235.1985, 'eval_samples_per_second': 85.06, 'eval_steps_per_second': 5.319, 'epoch': 0.4350663476180118}\n"
     ]
    },
    {
     "name": "stderr",
     "output_type": "stream",
     "text": [
      "Saving model checkpoint to swag_lora_ft/checkpoint-500\n",
      "loading configuration file config.json from cache at /root/.cache/huggingface/hub/models--google-bert--bert-base-uncased/snapshots/86b5e0934494bd15c9632b12f734a8a67f723594/config.json\n",
      "Model config BertConfig {\n",
      "  \"architectures\": [\n",
      "    \"BertForMaskedLM\"\n",
      "  ],\n",
      "  \"attention_probs_dropout_prob\": 0.1,\n",
      "  \"classifier_dropout\": null,\n",
      "  \"gradient_checkpointing\": false,\n",
      "  \"hidden_act\": \"gelu\",\n",
      "  \"hidden_dropout_prob\": 0.1,\n",
      "  \"hidden_size\": 768,\n",
      "  \"initializer_range\": 0.02,\n",
      "  \"intermediate_size\": 3072,\n",
      "  \"layer_norm_eps\": 1e-12,\n",
      "  \"max_position_embeddings\": 512,\n",
      "  \"model_type\": \"bert\",\n",
      "  \"num_attention_heads\": 12,\n",
      "  \"num_hidden_layers\": 12,\n",
      "  \"pad_token_id\": 0,\n",
      "  \"position_embedding_type\": \"absolute\",\n",
      "  \"transformers_version\": \"4.52.4\",\n",
      "  \"type_vocab_size\": 2,\n",
      "  \"use_cache\": true,\n",
      "  \"vocab_size\": 30522\n",
      "}\n",
      "\n",
      "tokenizer config file saved in swag_lora_ft/checkpoint-500/tokenizer_config.json\n",
      "Special tokens file saved in swag_lora_ft/checkpoint-500/special_tokens_map.json\n"
     ]
    },
    {
     "name": "stdout",
     "output_type": "stream",
     "text": [
      "[step 550] {'loss': 1.0103, 'grad_norm': 1.4919174909591675, 'learning_rate': 3.7371980676328506e-05, 'epoch': 0.47857298237981294}\n",
      "[step 600] {'loss': 0.9936, 'grad_norm': 3.1672098636627197, 'learning_rate': 3.6727858293075686e-05, 'epoch': 0.5220796171416141}\n",
      "[step 650] {'loss': 0.9555, 'grad_norm': 1.8804738521575928, 'learning_rate': 3.6083735909822867e-05, 'epoch': 0.5655862519034153}\n",
      "[step 700] {'loss': 0.9417, 'grad_norm': 1.6535313129425049, 'learning_rate': 3.5439613526570054e-05, 'epoch': 0.6090928866652164}\n",
      "[step 750] {'loss': 0.963, 'grad_norm': 1.599323034286499, 'learning_rate': 3.4795491143317234e-05, 'epoch': 0.6525995214270176}\n",
      "[step 800] {'loss': 0.9342, 'grad_norm': 1.7165900468826294, 'learning_rate': 3.4151368760064414e-05, 'epoch': 0.6961061561888188}\n",
      "[step 850] {'loss': 0.9361, 'grad_norm': 2.011836290359497, 'learning_rate': 3.3507246376811594e-05, 'epoch': 0.7396127909506199}\n",
      "[step 900] {'loss': 0.9592, 'grad_norm': 2.05969500541687, 'learning_rate': 3.286312399355878e-05, 'epoch': 0.7831194257124211}\n",
      "[step 950] {'loss': 0.944, 'grad_norm': 1.7735748291015625, 'learning_rate': 3.221900161030596e-05, 'epoch': 0.8266260604742223}\n"
     ]
    },
    {
     "name": "stderr",
     "output_type": "stream",
     "text": [
      "\n",
      "***** Running Evaluation *****\n",
      "  Num examples = 20006\n",
      "  Batch size = 16\n"
     ]
    },
    {
     "name": "stdout",
     "output_type": "stream",
     "text": [
      "[step 1000] {'loss': 0.9327, 'grad_norm': 1.7610626220703125, 'learning_rate': 3.157487922705314e-05, 'epoch': 0.8701326952360235}\n",
      "[step 1000] {'eval_loss': 0.7766821384429932, 'eval_accuracy': 0.6986404078776367, 'eval_runtime': 235.041, 'eval_samples_per_second': 85.117, 'eval_steps_per_second': 5.322, 'epoch': 0.8701326952360235}\n"
     ]
    },
    {
     "name": "stderr",
     "output_type": "stream",
     "text": [
      "Saving model checkpoint to swag_lora_ft/checkpoint-1000\n",
      "loading configuration file config.json from cache at /root/.cache/huggingface/hub/models--google-bert--bert-base-uncased/snapshots/86b5e0934494bd15c9632b12f734a8a67f723594/config.json\n",
      "Model config BertConfig {\n",
      "  \"architectures\": [\n",
      "    \"BertForMaskedLM\"\n",
      "  ],\n",
      "  \"attention_probs_dropout_prob\": 0.1,\n",
      "  \"classifier_dropout\": null,\n",
      "  \"gradient_checkpointing\": false,\n",
      "  \"hidden_act\": \"gelu\",\n",
      "  \"hidden_dropout_prob\": 0.1,\n",
      "  \"hidden_size\": 768,\n",
      "  \"initializer_range\": 0.02,\n",
      "  \"intermediate_size\": 3072,\n",
      "  \"layer_norm_eps\": 1e-12,\n",
      "  \"max_position_embeddings\": 512,\n",
      "  \"model_type\": \"bert\",\n",
      "  \"num_attention_heads\": 12,\n",
      "  \"num_hidden_layers\": 12,\n",
      "  \"pad_token_id\": 0,\n",
      "  \"position_embedding_type\": \"absolute\",\n",
      "  \"transformers_version\": \"4.52.4\",\n",
      "  \"type_vocab_size\": 2,\n",
      "  \"use_cache\": true,\n",
      "  \"vocab_size\": 30522\n",
      "}\n",
      "\n",
      "tokenizer config file saved in swag_lora_ft/checkpoint-1000/tokenizer_config.json\n",
      "Special tokens file saved in swag_lora_ft/checkpoint-1000/special_tokens_map.json\n"
     ]
    },
    {
     "name": "stdout",
     "output_type": "stream",
     "text": [
      "[step 1050] {'loss': 0.9313, 'grad_norm': 1.7790533304214478, 'learning_rate': 3.093075684380032e-05, 'epoch': 0.9136393299978247}\n",
      "[step 1100] {'loss': 0.9439, 'grad_norm': 2.04967999458313, 'learning_rate': 3.0286634460547506e-05, 'epoch': 0.9571459647596259}\n",
      "[step 1150] {'loss': 0.8858, 'grad_norm': 1.5082412958145142, 'learning_rate': 2.964251207729469e-05, 'epoch': 1.0}\n",
      "[step 1200] {'loss': 0.9148, 'grad_norm': 1.7529948949813843, 'learning_rate': 2.899838969404187e-05, 'epoch': 1.0435066347618012}\n",
      "[step 1250] {'loss': 0.92, 'grad_norm': 2.12750506401062, 'learning_rate': 2.8354267310789053e-05, 'epoch': 1.0870132695236023}\n",
      "[step 1300] {'loss': 0.9027, 'grad_norm': 1.8656983375549316, 'learning_rate': 2.7710144927536237e-05, 'epoch': 1.1305199042854035}\n",
      "[step 1350] {'loss': 0.9137, 'grad_norm': 1.593183994293213, 'learning_rate': 2.7066022544283414e-05, 'epoch': 1.1740265390472047}\n",
      "[step 1400] {'loss': 0.9123, 'grad_norm': 1.9362868070602417, 'learning_rate': 2.6421900161030598e-05, 'epoch': 1.2175331738090058}\n",
      "[step 1450] {'loss': 0.8807, 'grad_norm': 2.127671957015991, 'learning_rate': 2.577777777777778e-05, 'epoch': 1.261039808570807}\n"
     ]
    },
    {
     "name": "stderr",
     "output_type": "stream",
     "text": [
      "\n",
      "***** Running Evaluation *****\n",
      "  Num examples = 20006\n",
      "  Batch size = 16\n"
     ]
    },
    {
     "name": "stdout",
     "output_type": "stream",
     "text": [
      "[step 1500] {'loss': 0.8961, 'grad_norm': 1.853426218032837, 'learning_rate': 2.513365539452496e-05, 'epoch': 1.3045464433326082}\n",
      "[step 1500] {'eval_loss': 0.7434147000312805, 'eval_accuracy': 0.7118364490652804, 'eval_runtime': 235.2449, 'eval_samples_per_second': 85.043, 'eval_steps_per_second': 5.318, 'epoch': 1.3045464433326082}\n"
     ]
    },
    {
     "name": "stderr",
     "output_type": "stream",
     "text": [
      "Saving model checkpoint to swag_lora_ft/checkpoint-1500\n",
      "loading configuration file config.json from cache at /root/.cache/huggingface/hub/models--google-bert--bert-base-uncased/snapshots/86b5e0934494bd15c9632b12f734a8a67f723594/config.json\n",
      "Model config BertConfig {\n",
      "  \"architectures\": [\n",
      "    \"BertForMaskedLM\"\n",
      "  ],\n",
      "  \"attention_probs_dropout_prob\": 0.1,\n",
      "  \"classifier_dropout\": null,\n",
      "  \"gradient_checkpointing\": false,\n",
      "  \"hidden_act\": \"gelu\",\n",
      "  \"hidden_dropout_prob\": 0.1,\n",
      "  \"hidden_size\": 768,\n",
      "  \"initializer_range\": 0.02,\n",
      "  \"intermediate_size\": 3072,\n",
      "  \"layer_norm_eps\": 1e-12,\n",
      "  \"max_position_embeddings\": 512,\n",
      "  \"model_type\": \"bert\",\n",
      "  \"num_attention_heads\": 12,\n",
      "  \"num_hidden_layers\": 12,\n",
      "  \"pad_token_id\": 0,\n",
      "  \"position_embedding_type\": \"absolute\",\n",
      "  \"transformers_version\": \"4.52.4\",\n",
      "  \"type_vocab_size\": 2,\n",
      "  \"use_cache\": true,\n",
      "  \"vocab_size\": 30522\n",
      "}\n",
      "\n",
      "tokenizer config file saved in swag_lora_ft/checkpoint-1500/tokenizer_config.json\n",
      "Special tokens file saved in swag_lora_ft/checkpoint-1500/special_tokens_map.json\n",
      "Deleting older checkpoint [swag_lora_ft/checkpoint-500] due to args.save_total_limit\n"
     ]
    },
    {
     "name": "stdout",
     "output_type": "stream",
     "text": [
      "[step 1550] {'loss': 0.9047, 'grad_norm': 1.8018749952316284, 'learning_rate': 2.4489533011272145e-05, 'epoch': 1.3480530780944093}\n",
      "[step 1600] {'loss': 0.8971, 'grad_norm': 2.3629279136657715, 'learning_rate': 2.384541062801933e-05, 'epoch': 1.3915597128562105}\n",
      "[step 1650] {'loss': 0.8899, 'grad_norm': 1.8971103429794312, 'learning_rate': 2.3201288244766506e-05, 'epoch': 1.4350663476180117}\n",
      "[step 1700] {'loss': 0.8892, 'grad_norm': 1.869386911392212, 'learning_rate': 2.255716586151369e-05, 'epoch': 1.4785729823798128}\n",
      "[step 1750] {'loss': 0.89, 'grad_norm': 2.1292409896850586, 'learning_rate': 2.191304347826087e-05, 'epoch': 1.522079617141614}\n",
      "[step 1800] {'loss': 0.874, 'grad_norm': 1.844489574432373, 'learning_rate': 2.1268921095008053e-05, 'epoch': 1.5655862519034152}\n",
      "[step 1850] {'loss': 0.8993, 'grad_norm': 1.6428722143173218, 'learning_rate': 2.0624798711755237e-05, 'epoch': 1.6090928866652163}\n",
      "[step 1900] {'loss': 0.8793, 'grad_norm': 1.7100204229354858, 'learning_rate': 1.9980676328502417e-05, 'epoch': 1.6525995214270175}\n",
      "[step 1950] {'loss': 0.8648, 'grad_norm': 2.2269821166992188, 'learning_rate': 1.9336553945249598e-05, 'epoch': 1.6961061561888187}\n"
     ]
    },
    {
     "name": "stderr",
     "output_type": "stream",
     "text": [
      "\n",
      "***** Running Evaluation *****\n",
      "  Num examples = 20006\n",
      "  Batch size = 16\n"
     ]
    },
    {
     "name": "stdout",
     "output_type": "stream",
     "text": [
      "[step 2000] {'loss': 0.8959, 'grad_norm': 1.643061637878418, 'learning_rate': 1.869243156199678e-05, 'epoch': 1.7396127909506198}\n",
      "[step 2000] {'eval_loss': 0.7216517925262451, 'eval_accuracy': 0.7180845746276118, 'eval_runtime': 232.7805, 'eval_samples_per_second': 85.944, 'eval_steps_per_second': 5.374, 'epoch': 1.7396127909506198}\n"
     ]
    },
    {
     "name": "stderr",
     "output_type": "stream",
     "text": [
      "Saving model checkpoint to swag_lora_ft/checkpoint-2000\n",
      "loading configuration file config.json from cache at /root/.cache/huggingface/hub/models--google-bert--bert-base-uncased/snapshots/86b5e0934494bd15c9632b12f734a8a67f723594/config.json\n",
      "Model config BertConfig {\n",
      "  \"architectures\": [\n",
      "    \"BertForMaskedLM\"\n",
      "  ],\n",
      "  \"attention_probs_dropout_prob\": 0.1,\n",
      "  \"classifier_dropout\": null,\n",
      "  \"gradient_checkpointing\": false,\n",
      "  \"hidden_act\": \"gelu\",\n",
      "  \"hidden_dropout_prob\": 0.1,\n",
      "  \"hidden_size\": 768,\n",
      "  \"initializer_range\": 0.02,\n",
      "  \"intermediate_size\": 3072,\n",
      "  \"layer_norm_eps\": 1e-12,\n",
      "  \"max_position_embeddings\": 512,\n",
      "  \"model_type\": \"bert\",\n",
      "  \"num_attention_heads\": 12,\n",
      "  \"num_hidden_layers\": 12,\n",
      "  \"pad_token_id\": 0,\n",
      "  \"position_embedding_type\": \"absolute\",\n",
      "  \"transformers_version\": \"4.52.4\",\n",
      "  \"type_vocab_size\": 2,\n",
      "  \"use_cache\": true,\n",
      "  \"vocab_size\": 30522\n",
      "}\n",
      "\n",
      "tokenizer config file saved in swag_lora_ft/checkpoint-2000/tokenizer_config.json\n",
      "Special tokens file saved in swag_lora_ft/checkpoint-2000/special_tokens_map.json\n",
      "Deleting older checkpoint [swag_lora_ft/checkpoint-1000] due to args.save_total_limit\n"
     ]
    },
    {
     "name": "stdout",
     "output_type": "stream",
     "text": [
      "[step 2050] {'loss': 0.8633, 'grad_norm': 2.08097505569458, 'learning_rate': 1.8048309178743965e-05, 'epoch': 1.783119425712421}\n",
      "[step 2100] {'loss': 0.8867, 'grad_norm': 2.101127862930298, 'learning_rate': 1.7404186795491145e-05, 'epoch': 1.8266260604742222}\n",
      "[step 2150] {'loss': 0.8683, 'grad_norm': 2.365368366241455, 'learning_rate': 1.6760064412238325e-05, 'epoch': 1.8701326952360235}\n",
      "[step 2200] {'loss': 0.8654, 'grad_norm': 2.004598379135132, 'learning_rate': 1.611594202898551e-05, 'epoch': 1.9136393299978247}\n",
      "[step 2250] {'loss': 0.8663, 'grad_norm': 2.1815133094787598, 'learning_rate': 1.547181964573269e-05, 'epoch': 1.9571459647596259}\n",
      "[step 2300] {'loss': 0.8613, 'grad_norm': 1.0227664709091187, 'learning_rate': 1.4827697262479873e-05, 'epoch': 2.0}\n",
      "[step 2350] {'loss': 0.8904, 'grad_norm': 1.8342633247375488, 'learning_rate': 1.4183574879227053e-05, 'epoch': 2.043506634761801}\n",
      "[step 2400] {'loss': 0.8689, 'grad_norm': 2.040992259979248, 'learning_rate': 1.3539452495974237e-05, 'epoch': 2.0870132695236023}\n",
      "[step 2450] {'loss': 0.8651, 'grad_norm': 1.8584790229797363, 'learning_rate': 1.2895330112721419e-05, 'epoch': 2.1305199042854035}\n"
     ]
    },
    {
     "name": "stderr",
     "output_type": "stream",
     "text": [
      "\n",
      "***** Running Evaluation *****\n",
      "  Num examples = 20006\n",
      "  Batch size = 16\n"
     ]
    },
    {
     "name": "stdout",
     "output_type": "stream",
     "text": [
      "[step 2500] {'loss': 0.8769, 'grad_norm': 1.8550193309783936, 'learning_rate': 1.2251207729468599e-05, 'epoch': 2.1740265390472047}\n",
      "[step 2500] {'eval_loss': 0.7085609436035156, 'eval_accuracy': 0.7251324602619215, 'eval_runtime': 233.5335, 'eval_samples_per_second': 85.667, 'eval_steps_per_second': 5.357, 'epoch': 2.1740265390472047}\n"
     ]
    },
    {
     "name": "stderr",
     "output_type": "stream",
     "text": [
      "Saving model checkpoint to swag_lora_ft/checkpoint-2500\n",
      "loading configuration file config.json from cache at /root/.cache/huggingface/hub/models--google-bert--bert-base-uncased/snapshots/86b5e0934494bd15c9632b12f734a8a67f723594/config.json\n",
      "Model config BertConfig {\n",
      "  \"architectures\": [\n",
      "    \"BertForMaskedLM\"\n",
      "  ],\n",
      "  \"attention_probs_dropout_prob\": 0.1,\n",
      "  \"classifier_dropout\": null,\n",
      "  \"gradient_checkpointing\": false,\n",
      "  \"hidden_act\": \"gelu\",\n",
      "  \"hidden_dropout_prob\": 0.1,\n",
      "  \"hidden_size\": 768,\n",
      "  \"initializer_range\": 0.02,\n",
      "  \"intermediate_size\": 3072,\n",
      "  \"layer_norm_eps\": 1e-12,\n",
      "  \"max_position_embeddings\": 512,\n",
      "  \"model_type\": \"bert\",\n",
      "  \"num_attention_heads\": 12,\n",
      "  \"num_hidden_layers\": 12,\n",
      "  \"pad_token_id\": 0,\n",
      "  \"position_embedding_type\": \"absolute\",\n",
      "  \"transformers_version\": \"4.52.4\",\n",
      "  \"type_vocab_size\": 2,\n",
      "  \"use_cache\": true,\n",
      "  \"vocab_size\": 30522\n",
      "}\n",
      "\n",
      "tokenizer config file saved in swag_lora_ft/checkpoint-2500/tokenizer_config.json\n",
      "Special tokens file saved in swag_lora_ft/checkpoint-2500/special_tokens_map.json\n",
      "Deleting older checkpoint [swag_lora_ft/checkpoint-1500] due to args.save_total_limit\n"
     ]
    },
    {
     "name": "stdout",
     "output_type": "stream",
     "text": [
      "[step 2550] {'loss': 0.8712, 'grad_norm': 1.9808539152145386, 'learning_rate': 1.1607085346215783e-05, 'epoch': 2.217533173809006}\n",
      "[step 2600] {'loss': 0.889, 'grad_norm': 1.9283663034439087, 'learning_rate': 1.0962962962962965e-05, 'epoch': 2.261039808570807}\n",
      "[step 2650] {'loss': 0.8714, 'grad_norm': 2.362959861755371, 'learning_rate': 1.0318840579710145e-05, 'epoch': 2.304546443332608}\n",
      "[step 2700] {'loss': 0.8548, 'grad_norm': 2.3126933574676514, 'learning_rate': 9.674718196457329e-06, 'epoch': 2.3480530780944093}\n",
      "[step 2750] {'loss': 0.8488, 'grad_norm': 2.0544803142547607, 'learning_rate': 9.030595813204509e-06, 'epoch': 2.3915597128562105}\n",
      "[step 2800] {'loss': 0.8783, 'grad_norm': 1.9095851182937622, 'learning_rate': 8.38647342995169e-06, 'epoch': 2.4350663476180117}\n",
      "[step 2850] {'loss': 0.8587, 'grad_norm': 1.913783073425293, 'learning_rate': 7.742351046698874e-06, 'epoch': 2.478572982379813}\n",
      "[step 2900] {'loss': 0.8628, 'grad_norm': 2.070373773574829, 'learning_rate': 7.098228663446055e-06, 'epoch': 2.522079617141614}\n",
      "[step 2950] {'loss': 0.865, 'grad_norm': 2.079653024673462, 'learning_rate': 6.4541062801932375e-06, 'epoch': 2.565586251903415}\n"
     ]
    },
    {
     "name": "stderr",
     "output_type": "stream",
     "text": [
      "\n",
      "***** Running Evaluation *****\n",
      "  Num examples = 20006\n",
      "  Batch size = 16\n"
     ]
    },
    {
     "name": "stdout",
     "output_type": "stream",
     "text": [
      "[step 3000] {'loss': 0.8552, 'grad_norm': 2.638636827468872, 'learning_rate': 5.809983896940419e-06, 'epoch': 2.6090928866652163}\n",
      "[step 3000] {'eval_loss': 0.7016574740409851, 'eval_accuracy': 0.7278816355093471, 'eval_runtime': 234.7272, 'eval_samples_per_second': 85.231, 'eval_steps_per_second': 5.33, 'epoch': 2.6090928866652163}\n"
     ]
    },
    {
     "name": "stderr",
     "output_type": "stream",
     "text": [
      "Saving model checkpoint to swag_lora_ft/checkpoint-3000\n",
      "loading configuration file config.json from cache at /root/.cache/huggingface/hub/models--google-bert--bert-base-uncased/snapshots/86b5e0934494bd15c9632b12f734a8a67f723594/config.json\n",
      "Model config BertConfig {\n",
      "  \"architectures\": [\n",
      "    \"BertForMaskedLM\"\n",
      "  ],\n",
      "  \"attention_probs_dropout_prob\": 0.1,\n",
      "  \"classifier_dropout\": null,\n",
      "  \"gradient_checkpointing\": false,\n",
      "  \"hidden_act\": \"gelu\",\n",
      "  \"hidden_dropout_prob\": 0.1,\n",
      "  \"hidden_size\": 768,\n",
      "  \"initializer_range\": 0.02,\n",
      "  \"intermediate_size\": 3072,\n",
      "  \"layer_norm_eps\": 1e-12,\n",
      "  \"max_position_embeddings\": 512,\n",
      "  \"model_type\": \"bert\",\n",
      "  \"num_attention_heads\": 12,\n",
      "  \"num_hidden_layers\": 12,\n",
      "  \"pad_token_id\": 0,\n",
      "  \"position_embedding_type\": \"absolute\",\n",
      "  \"transformers_version\": \"4.52.4\",\n",
      "  \"type_vocab_size\": 2,\n",
      "  \"use_cache\": true,\n",
      "  \"vocab_size\": 30522\n",
      "}\n",
      "\n",
      "tokenizer config file saved in swag_lora_ft/checkpoint-3000/tokenizer_config.json\n",
      "Special tokens file saved in swag_lora_ft/checkpoint-3000/special_tokens_map.json\n",
      "Deleting older checkpoint [swag_lora_ft/checkpoint-2000] due to args.save_total_limit\n"
     ]
    },
    {
     "name": "stdout",
     "output_type": "stream",
     "text": [
      "[step 3050] {'loss': 0.8605, 'grad_norm': 1.938331127166748, 'learning_rate': 5.1658615136876014e-06, 'epoch': 2.6525995214270175}\n",
      "[step 3100] {'loss': 0.8724, 'grad_norm': 2.0513417720794678, 'learning_rate': 4.5217391304347826e-06, 'epoch': 2.6961061561888187}\n",
      "[step 3150] {'loss': 0.8404, 'grad_norm': 1.9035868644714355, 'learning_rate': 3.8776167471819645e-06, 'epoch': 2.73961279095062}\n",
      "[step 3200] {'loss': 0.8731, 'grad_norm': 1.8559490442276, 'learning_rate': 3.2334943639291465e-06, 'epoch': 2.783119425712421}\n",
      "[step 3250] {'loss': 0.8707, 'grad_norm': 1.7530736923217773, 'learning_rate': 2.5893719806763284e-06, 'epoch': 2.826626060474222}\n",
      "[step 3300] {'loss': 0.8832, 'grad_norm': 1.9505352973937988, 'learning_rate': 1.9452495974235104e-06, 'epoch': 2.8701326952360233}\n",
      "[step 3350] {'loss': 0.8555, 'grad_norm': 2.5170297622680664, 'learning_rate': 1.3011272141706926e-06, 'epoch': 2.9136393299978245}\n",
      "[step 3400] {'loss': 0.8712, 'grad_norm': 2.0748751163482666, 'learning_rate': 6.570048309178745e-07, 'epoch': 2.9571459647596257}\n"
     ]
    },
    {
     "name": "stderr",
     "output_type": "stream",
     "text": [
      "Saving model checkpoint to swag_lora_ft/checkpoint-3450\n"
     ]
    },
    {
     "name": "stdout",
     "output_type": "stream",
     "text": [
      "[step 3450] {'loss': 0.8654, 'grad_norm': 2.018608808517456, 'learning_rate': 1.2882447665056362e-08, 'epoch': 3.0}\n"
     ]
    },
    {
     "name": "stderr",
     "output_type": "stream",
     "text": [
      "loading configuration file config.json from cache at /root/.cache/huggingface/hub/models--google-bert--bert-base-uncased/snapshots/86b5e0934494bd15c9632b12f734a8a67f723594/config.json\n",
      "Model config BertConfig {\n",
      "  \"architectures\": [\n",
      "    \"BertForMaskedLM\"\n",
      "  ],\n",
      "  \"attention_probs_dropout_prob\": 0.1,\n",
      "  \"classifier_dropout\": null,\n",
      "  \"gradient_checkpointing\": false,\n",
      "  \"hidden_act\": \"gelu\",\n",
      "  \"hidden_dropout_prob\": 0.1,\n",
      "  \"hidden_size\": 768,\n",
      "  \"initializer_range\": 0.02,\n",
      "  \"intermediate_size\": 3072,\n",
      "  \"layer_norm_eps\": 1e-12,\n",
      "  \"max_position_embeddings\": 512,\n",
      "  \"model_type\": \"bert\",\n",
      "  \"num_attention_heads\": 12,\n",
      "  \"num_hidden_layers\": 12,\n",
      "  \"pad_token_id\": 0,\n",
      "  \"position_embedding_type\": \"absolute\",\n",
      "  \"transformers_version\": \"4.52.4\",\n",
      "  \"type_vocab_size\": 2,\n",
      "  \"use_cache\": true,\n",
      "  \"vocab_size\": 30522\n",
      "}\n",
      "\n",
      "tokenizer config file saved in swag_lora_ft/checkpoint-3450/tokenizer_config.json\n",
      "Special tokens file saved in swag_lora_ft/checkpoint-3450/special_tokens_map.json\n",
      "Deleting older checkpoint [swag_lora_ft/checkpoint-2500] due to args.save_total_limit\n",
      "\n",
      "\n",
      "Training completed. Do not forget to share your model on huggingface.co/models =)\n",
      "\n",
      "\n",
      "Loading best model from swag_lora_ft/checkpoint-3000 (score: 0.7278816355093471).\n"
     ]
    },
    {
     "name": "stdout",
     "output_type": "stream",
     "text": [
      "[step 3450] {'train_runtime': 8818.7515, 'train_samples_per_second': 25.019, 'train_steps_per_second': 0.391, 'total_flos': 5.606065317204336e+16, 'train_loss': 0.9414606807542883, 'epoch': 3.0}\n"
     ]
    },
    {
     "data": {
      "text/plain": [
       "TrainOutput(global_step=3450, training_loss=0.9414606807542883, metrics={'train_runtime': 8818.7515, 'train_samples_per_second': 25.019, 'train_steps_per_second': 0.391, 'total_flos': 5.606065317204336e+16, 'train_loss': 0.9414606807542883, 'epoch': 3.0})"
      ]
     },
     "execution_count": 37,
     "metadata": {},
     "output_type": "execute_result"
    }
   ],
   "source": [
    "# Fine-tune visible progress (Transformers 4.47 compatible)\n",
    "\n",
    "import os\n",
    "import numpy as np\n",
    "from evaluate import load\n",
    "from transformers import (\n",
    "    TrainingArguments, Trainer,\n",
    "    IntervalStrategy, SchedulerType,\n",
    "    TrainerCallback,\n",
    ")\n",
    "from transformers.utils import logging as hf_logging\n",
    "\n",
    "# Make logs visible in the cell; silence wandb noise\n",
    "hf_logging.set_verbosity_info()\n",
    "os.environ[\"WANDB_DISABLED\"] = \"true\"   # or: os.environ[\"WANDB_MODE\"] = \"offline\"\n",
    "\n",
    "# Metrics\n",
    "accuracy_metric = load(\"accuracy\")\n",
    "def compute_metrics(pred):\n",
    "    labels = pred.label_ids\n",
    "    preds  = np.argmax(pred.predictions, axis=1)\n",
    "    return accuracy_metric.compute(predictions=preds, references=labels)\n",
    "\n",
    "# Training arguments (step-level eval/save + frequent logging)\n",
    "training_args = TrainingArguments(\n",
    "    output_dir=\"swag_lora_ft\",\n",
    "\n",
    "    do_eval=True,\n",
    "    eval_strategy=IntervalStrategy.STEPS,   # 4.47 naming\n",
    "    eval_steps=500,\n",
    "    save_strategy=IntervalStrategy.STEPS,\n",
    "    save_steps=500,\n",
    "    save_total_limit=2,\n",
    "\n",
    "    learning_rate=4e-5,\n",
    "    warmup_ratio=0.1,\n",
    "    lr_scheduler_type=SchedulerType.LINEAR,\n",
    "\n",
    "    per_device_train_batch_size=16,\n",
    "    per_device_eval_batch_size=16,\n",
    "    gradient_accumulation_steps=4,\n",
    "    num_train_epochs=2,\n",
    "\n",
    "    # visible logs / progress\n",
    "    logging_strategy=IntervalStrategy.STEPS,\n",
    "    logging_steps=50,         # print every 50 steps\n",
    "    disable_tqdm=False,       # show progress bar\n",
    "    report_to=\"none\",         # no wandb/tensorboard\n",
    "\n",
    "    load_best_model_at_end=True,\n",
    "    metric_for_best_model=\"accuracy\",\n",
    ")\n",
    "\n",
    "# Tiny callback to guarantee prints even if buffering happens\n",
    "class PrintCallback(TrainerCallback):\n",
    "    def on_log(self, args, state, control, logs=None, **kwargs):\n",
    "        if logs:\n",
    "            print(f\"[step {state.global_step}] {logs}\")\n",
    "\n",
    "# Trainer (reuses your existing objects: model_with_lora, train_ds, eval_ds, data_collator, tokenizer)\n",
    "trainer = Trainer(\n",
    "    model=model_with_lora,\n",
    "    args=training_args,\n",
    "    train_dataset=train_ds,\n",
    "    eval_dataset=eval_ds,\n",
    "    data_collator=data_collator,\n",
    "    tokenizer=tokenizer,          # ok; may show a future deprecation warning\n",
    "    compute_metrics=compute_metrics,\n",
    "    callbacks=[PrintCallback()],\n",
    ")\n",
    "\n",
    "# Train\n",
    "trainer.train()\n"
   ]
  },
  {
   "cell_type": "markdown",
   "metadata": {},
   "source": [
    "### Metrics"
   ]
  },
  {
   "cell_type": "code",
   "execution_count": 38,
   "metadata": {
    "execution": {
     "iopub.execute_input": "2025-08-24T13:43:14.670460Z",
     "iopub.status.busy": "2025-08-24T13:43:14.670212Z",
     "iopub.status.idle": "2025-08-24T13:51:03.627617Z",
     "shell.execute_reply": "2025-08-24T13:51:03.627024Z",
     "shell.execute_reply.started": "2025-08-24T13:43:14.670434Z"
    },
    "trusted": true
   },
   "outputs": [
    {
     "name": "stderr",
     "output_type": "stream",
     "text": [
      "\n",
      "***** Running Evaluation *****\n",
      "  Num examples = 20006\n",
      "  Batch size = 16\n"
     ]
    },
    {
     "data": {
      "text/html": [],
      "text/plain": [
       "<IPython.core.display.HTML object>"
      ]
     },
     "metadata": {},
     "output_type": "display_data"
    },
    {
     "name": "stderr",
     "output_type": "stream",
     "text": [
      "\n",
      "***** Running Prediction *****\n",
      "  Num examples = 20006\n",
      "  Batch size = 16\n"
     ]
    },
    {
     "name": "stdout",
     "output_type": "stream",
     "text": [
      "[step 3450] {'eval_loss': 0.7016574740409851, 'eval_accuracy': 0.7278816355093471, 'eval_runtime': 234.5594, 'eval_samples_per_second': 85.292, 'eval_steps_per_second': 5.333, 'epoch': 3.0}\n",
      "→ Validation Accuracy:  72.79%\n",
      "→ Validation Perplexity: 2.02\n",
      "→ Confusion Matrix:\n",
      " [[3616  421  453  443]\n",
      " [ 455 3658  456  460]\n",
      " [ 421  483 3659  475]\n",
      " [ 436  447  494 3629]]\n"
     ]
    }
   ],
   "source": [
    "# Evaluate & report\n",
    "metrics = trainer.evaluate()\n",
    "\n",
    "# Perplexity & confusion matrix\n",
    "perplexity = np.exp(metrics[\"eval_loss\"])\n",
    "print(f\"→ Validation Accuracy:  {100*(metrics['eval_accuracy']):.2f}%\")\n",
    "print(f\"→ Validation Perplexity: {perplexity:.2f}\")\n",
    "\n",
    "\n",
    "# Confusion matrix\n",
    "from sklearn.metrics import confusion_matrix\n",
    "preds_output = trainer.predict(eval_ds)\n",
    "preds = np.argmax(preds_output.predictions, axis=1)\n",
    "cm = confusion_matrix(preds_output.label_ids, preds)\n",
    "print(\"→ Confusion Matrix:\\n\", cm)\n"
   ]
  },
  {
   "cell_type": "markdown",
   "metadata": {},
   "source": [
    "### Comparison"
   ]
  },
  {
   "cell_type": "code",
   "execution_count": 39,
   "metadata": {
    "execution": {
     "iopub.execute_input": "2025-08-24T13:51:03.628490Z",
     "iopub.status.busy": "2025-08-24T13:51:03.628300Z",
     "iopub.status.idle": "2025-08-24T13:51:03.634929Z",
     "shell.execute_reply": "2025-08-24T13:51:03.634184Z",
     "shell.execute_reply.started": "2025-08-24T13:51:03.628474Z"
    },
    "trusted": true
   },
   "outputs": [
    {
     "name": "stdout",
     "output_type": "stream",
     "text": [
      "                    Method   Accuracy\n",
      "0        Baseline (No ICL)  39.163251\n",
      "1  Few shot learning (ICL)  37.663701\n",
      "2   Chain of Thought (ICL)  40.077977\n",
      "3   Fine-Tuned BERT + LoRA  72.788164\n"
     ]
    }
   ],
   "source": [
    "ft_accuracy = 100*(metrics[\"eval_accuracy\"])\n",
    "icl_results.append((\"Fine-Tuned BERT + LoRA\", ft_accuracy))\n",
    "\n",
    "\n",
    "import pandas as pd\n",
    "results_df = pd.DataFrame(icl_results, columns=[\"Method\", \"Accuracy\"])\n",
    "print(results_df)\n"
   ]
  },
  {
   "cell_type": "markdown",
   "metadata": {},
   "source": [
    "## 12. In-Context Learning with the Fine-Tuned Model"
   ]
  },
  {
   "cell_type": "code",
   "execution_count": 40,
   "metadata": {
    "execution": {
     "iopub.execute_input": "2025-08-24T13:51:03.636349Z",
     "iopub.status.busy": "2025-08-24T13:51:03.636091Z",
     "iopub.status.idle": "2025-08-24T13:51:03.651237Z",
     "shell.execute_reply": "2025-08-24T13:51:03.650639Z",
     "shell.execute_reply.started": "2025-08-24T13:51:03.636329Z"
    },
    "trusted": true
   },
   "outputs": [],
   "source": [
    "from sklearn.metrics import confusion_matrix, classification_report\n",
    "import math\n",
    "\n",
    "# make sure model is on device\n",
    "device = \"cuda\" if torch.cuda.is_available() else \"cpu\"\n",
    "model_with_lora.to(device)\n",
    "\n",
    "\n",
    "def evaluate_loader(model, loader, description):\n",
    "    model.eval()            # set eval mode\n",
    "    all_preds, all_labels = [], []\n",
    "    total_loss, total_examples = 0.0, 0\n",
    "\n",
    "    with torch.no_grad():\n",
    "        for batch in tqdm(loader, desc=description):\n",
    "            batch = {k: v.to(device) for k,v in batch.items()}\n",
    "            outputs = model(**batch)\n",
    "            loss = outputs.loss.item()\n",
    "            bs = batch[\"labels\"].size(0)\n",
    "            total_loss    += loss * bs\n",
    "            total_examples+= bs\n",
    "\n",
    "            preds = torch.argmax(outputs.logits, dim=1)\n",
    "            all_preds.extend(preds.cpu().tolist())\n",
    "            all_labels.extend(batch[\"labels\"].cpu().tolist())\n",
    "\n",
    "    avg_loss   = total_loss / total_examples\n",
    "    perplexity = math.exp(avg_loss)\n",
    "    acc        = sum(p==l for p,l in zip(all_preds, all_labels)) / len(all_labels)\n",
    "\n",
    "    print(f\"\\n📊 {description} Accuracy:    {100*(acc):.4f}%\")\n",
    "    print(f\"📊 {description} Perplexity: {perplexity:.4f}\")\n",
    "\n",
    "    cm = confusion_matrix(all_labels, all_preds)\n",
    "    print(f\"\\n{description} Confusion Matrix:\\n{cm}\\n\")\n",
    "\n",
    "    cr = classification_report(all_labels, all_preds, digits=4)\n",
    "    print(f\"{description} Classification Report:\\n{cr}\\n\")\n",
    "\n",
    "    return acc\n"
   ]
  },
  {
   "cell_type": "markdown",
   "metadata": {},
   "source": [
    "### Few-shot ICL with fine-tuned model"
   ]
  },
  {
   "cell_type": "code",
   "execution_count": 41,
   "metadata": {
    "execution": {
     "iopub.execute_input": "2025-08-24T13:51:03.652167Z",
     "iopub.status.busy": "2025-08-24T13:51:03.651877Z",
     "iopub.status.idle": "2025-08-24T14:11:39.511442Z",
     "shell.execute_reply": "2025-08-24T14:11:39.510605Z",
     "shell.execute_reply.started": "2025-08-24T13:51:03.652143Z"
    },
    "trusted": true
   },
   "outputs": [
    {
     "name": "stderr",
     "output_type": "stream",
     "text": [
      "Fine-Tuned Few-Shot ICL: 100%|██████████| 2501/2501 [20:35<00:00,  2.02it/s]"
     ]
    },
    {
     "name": "stdout",
     "output_type": "stream",
     "text": [
      "\n",
      "📊 Fine-Tuned Few-Shot ICL Accuracy:    58.1326%\n",
      "📊 Fine-Tuned Few-Shot ICL Perplexity: 2.7297\n",
      "\n",
      "Fine-Tuned Few-Shot ICL Confusion Matrix:\n",
      "[[2839  756  648  690]\n",
      " [ 673 3051  670  635]\n",
      " [ 693  800 2834  711]\n",
      " [ 665  738  697 2906]]\n",
      "\n",
      "Fine-Tuned Few-Shot ICL Classification Report:\n",
      "              precision    recall  f1-score   support\n",
      "\n",
      "           0     0.5830    0.5755    0.5792      4933\n",
      "           1     0.5708    0.6067    0.5882      5029\n",
      "           2     0.5845    0.5625    0.5733      5038\n",
      "           3     0.5880    0.5805    0.5842      5006\n",
      "\n",
      "    accuracy                         0.5813     20006\n",
      "   macro avg     0.5816    0.5813    0.5812     20006\n",
      "weighted avg     0.5815    0.5813    0.5812     20006\n",
      "\n",
      "\n"
     ]
    },
    {
     "name": "stderr",
     "output_type": "stream",
     "text": [
      "\n"
     ]
    }
   ],
   "source": [
    "fs_acc = evaluate_loader(model_with_lora, fewshot_icl_loader, \"Fine-Tuned Few-Shot ICL\")\n",
    "icl_results.append((\"Fine-Tuned Few-Shot ICL\", 100*fs_acc))"
   ]
  },
  {
   "cell_type": "markdown",
   "metadata": {},
   "source": [
    "### Chain of thought ICL with fine-tuned model"
   ]
  },
  {
   "cell_type": "code",
   "execution_count": 42,
   "metadata": {
    "execution": {
     "iopub.execute_input": "2025-08-24T14:11:39.512324Z",
     "iopub.status.busy": "2025-08-24T14:11:39.512133Z",
     "iopub.status.idle": "2025-08-24T14:16:03.837959Z",
     "shell.execute_reply": "2025-08-24T14:16:03.837175Z",
     "shell.execute_reply.started": "2025-08-24T14:11:39.512308Z"
    },
    "trusted": true
   },
   "outputs": [
    {
     "name": "stderr",
     "output_type": "stream",
     "text": [
      "Fine-Tuned CoT ICL: 100%|██████████| 2501/2501 [04:24<00:00,  9.46it/s]"
     ]
    },
    {
     "name": "stdout",
     "output_type": "stream",
     "text": [
      "\n",
      "📊 Fine-Tuned CoT ICL Accuracy:    69.1742%\n",
      "📊 Fine-Tuned CoT ICL Perplexity: 2.1903\n",
      "\n",
      "Fine-Tuned CoT ICL Confusion Matrix:\n",
      "[[3217  658  572  486]\n",
      " [ 397 3701  482  449]\n",
      " [ 411  636 3492  499]\n",
      " [ 393  627  557 3429]]\n",
      "\n",
      "Fine-Tuned CoT ICL Classification Report:\n",
      "              precision    recall  f1-score   support\n",
      "\n",
      "           0     0.7282    0.6521    0.6881      4933\n",
      "           1     0.6583    0.7359    0.6950      5029\n",
      "           2     0.6843    0.6931    0.6887      5038\n",
      "           3     0.7051    0.6850    0.6949      5006\n",
      "\n",
      "    accuracy                         0.6917     20006\n",
      "   macro avg     0.6940    0.6915    0.6917     20006\n",
      "weighted avg     0.6938    0.6917    0.6917     20006\n",
      "\n",
      "\n"
     ]
    },
    {
     "name": "stderr",
     "output_type": "stream",
     "text": [
      "\n"
     ]
    }
   ],
   "source": [
    "cot_acc = evaluate_loader(model_with_lora, cot_loader, \"Fine-Tuned CoT ICL\")\n",
    "icl_results.append((\"Fine-Tuned CoT ICL\", 100*cot_acc))\n"
   ]
  },
  {
   "cell_type": "markdown",
   "metadata": {},
   "source": [
    "### Comparison"
   ]
  },
  {
   "cell_type": "code",
   "execution_count": 43,
   "metadata": {
    "execution": {
     "iopub.execute_input": "2025-08-24T14:16:03.839776Z",
     "iopub.status.busy": "2025-08-24T14:16:03.838899Z",
     "iopub.status.idle": "2025-08-24T14:16:03.846468Z",
     "shell.execute_reply": "2025-08-24T14:16:03.845547Z",
     "shell.execute_reply.started": "2025-08-24T14:16:03.839742Z"
    },
    "trusted": true
   },
   "outputs": [
    {
     "name": "stdout",
     "output_type": "stream",
     "text": [
      "                    Method   Accuracy\n",
      "0        Baseline (No ICL)  39.163251\n",
      "1  Few shot learning (ICL)  37.663701\n",
      "2   Chain of Thought (ICL)  40.077977\n",
      "3   Fine-Tuned BERT + LoRA  72.788164\n",
      "4  Fine-Tuned Few-Shot ICL   0.581326\n",
      "5       Fine-Tuned CoT ICL   0.691742\n"
     ]
    }
   ],
   "source": [
    "import pandas as pd\n",
    "results_df = pd.DataFrame(icl_results, columns=[\"Method\", \"Accuracy\"])\n",
    "print(results_df)"
   ]
  },
  {
   "cell_type": "markdown",
   "metadata": {},
   "source": [
    "## 13. Analyze the Results"
   ]
  },
  {
   "cell_type": "code",
   "execution_count": 44,
   "metadata": {
    "execution": {
     "iopub.execute_input": "2025-08-24T14:16:03.847620Z",
     "iopub.status.busy": "2025-08-24T14:16:03.847393Z",
     "iopub.status.idle": "2025-08-24T14:17:05.691215Z",
     "shell.execute_reply": "2025-08-24T14:17:05.690628Z",
     "shell.execute_reply.started": "2025-08-24T14:16:03.847602Z"
    },
    "trusted": true
   },
   "outputs": [
    {
     "data": {
      "application/vnd.jupyter.widget-view+json": {
       "model_id": "75ad0864edde4fcfaf39a899f0b6d977",
       "version_major": 2,
       "version_minor": 0
      },
      "text/plain": [
       "Map:   0%|          | 0/20005 [00:00<?, ? examples/s]"
      ]
     },
     "metadata": {},
     "output_type": "display_data"
    },
    {
     "data": {
      "application/vnd.jupyter.widget-view+json": {
       "model_id": "51099d1d10e04a85a2210a19ead107a7",
       "version_major": 2,
       "version_minor": 0
      },
      "text/plain": [
       "Map:   0%|          | 0/20005 [00:00<?, ? examples/s]"
      ]
     },
     "metadata": {},
     "output_type": "display_data"
    }
   ],
   "source": [
    "# Prepare the test datasets\n",
    "\n",
    "# --- a) Baseline test (no ICL, pretrained BERT) ---\n",
    "test_baseline = tokenized_dataset[\"test\"]\n",
    "test_baseline_loader = DataLoader(test_baseline, batch_size=8, collate_fn=data_collator)\n",
    "\n",
    "# --- b) Few-Shot ICL on test ---\n",
    "test_fewshot = dataset[\"test\"].map(\n",
    "    preprocess_fewshot_icl_batch,\n",
    "    batched=True,\n",
    "    remove_columns=dataset[\"test\"].column_names\n",
    ")\n",
    "# drop old label column if it exists, keep only MCQ fields\n",
    "if \"label\" in test_fewshot.column_names:\n",
    "    test_fewshot = test_fewshot.remove_columns([\"label\"])\n",
    "keep = [\"input_ids\", \"attention_mask\", \"token_type_ids\", \"labels\"]\n",
    "test_fewshot = test_fewshot.remove_columns([c for c in test_fewshot.column_names if c not in keep])\n",
    "test_fewshot_loader = DataLoader(test_fewshot, batch_size=8, collate_fn=data_collator)\n",
    "\n",
    "# --- c) Chain-of-Thought ICL on test ---\n",
    "test_cot = dataset[\"test\"].map(\n",
    "    preprocess_cot_batch,\n",
    "    batched=True,\n",
    "    remove_columns=dataset[\"test\"].column_names\n",
    ")\n",
    "if \"label\" in test_cot.column_names:\n",
    "    test_cot = test_cot.remove_columns([\"label\"])\n",
    "test_cot = test_cot.remove_columns([c for c in test_cot.column_names if c not in keep])\n",
    "test_cot_loader = DataLoader(test_cot, batch_size=8, collate_fn=data_collator)\n",
    "\n",
    "\n",
    "test_results = []\n"
   ]
  },
  {
   "cell_type": "code",
   "execution_count": 56,
   "metadata": {
    "execution": {
     "iopub.execute_input": "2025-08-24T15:34:38.724561Z",
     "iopub.status.busy": "2025-08-24T15:34:38.724275Z",
     "iopub.status.idle": "2025-08-24T15:34:38.732547Z",
     "shell.execute_reply": "2025-08-24T15:34:38.731876Z",
     "shell.execute_reply.started": "2025-08-24T15:34:38.724541Z"
    },
    "trusted": true
   },
   "outputs": [],
   "source": [
    "def evaluate_loader_test(model, loader, description):\n",
    "    \"\"\"\n",
    "    Evaluate a model on a given DataLoader, handling both:\n",
    "    - Baseline datasets with list-of-lists labels (from preprocess_swag)\n",
    "    - Few-shot / CoT datasets with flat integer labels\n",
    "    Computes accuracy, perplexity, confusion matrix, and classification report.\n",
    "    \"\"\"\n",
    "    model.eval()  # set evaluation mode\n",
    "    all_preds, all_labels = [], []\n",
    "    total_loss, total_examples = 0.0, 0\n",
    "\n",
    "    with torch.no_grad():\n",
    "        for batch in tqdm(loader, desc=description):\n",
    "            # --- Flatten labels for baseline if necessary ---\n",
    "            labels_raw = batch[\"labels\"]\n",
    "            \n",
    "            if isinstance(labels_raw[0], (list, tuple)):\n",
    "                # Flatten: take the first element of each list (baseline dataset)\n",
    "                batch_labels = torch.tensor([l[0] for l in labels_raw], device=device)\n",
    "            else:\n",
    "                # Already flat (ICL datasets)\n",
    "                batch_labels = labels_raw.to(device)\n",
    "\n",
    "            # Move all other tensors to device\n",
    "            batch_tensors = {k: v.to(device) for k, v in batch.items() if k != \"labels\"}\n",
    "            batch_tensors[\"labels\"] = batch_labels\n",
    "\n",
    "            # Forward pass\n",
    "            outputs = model(**batch_tensors)\n",
    "\n",
    "            # Compute loss\n",
    "            loss = outputs.loss.item()\n",
    "            bs = batch_labels.size(0)\n",
    "            total_loss += loss * bs\n",
    "            total_examples += bs\n",
    "\n",
    "            # Predictions\n",
    "            preds = torch.argmax(outputs.logits, dim=1)\n",
    "            all_preds.extend(preds.cpu().tolist())\n",
    "            all_labels.extend(batch_labels.cpu().tolist())\n",
    "\n",
    "    # Metrics\n",
    "    avg_loss = total_loss / total_examples\n",
    "    perplexity = math.exp(avg_loss)\n",
    "    acc = sum(p == l for p, l in zip(all_preds, all_labels)) / len(all_labels)\n",
    "\n",
    "    print(f\"\\n📊 {description} Accuracy: {100*acc:.4f}%\")\n",
    "    print(f\"📊 {description} Perplexity: {perplexity:.4f}\")\n",
    "\n",
    "    # Confusion Matrix\n",
    "    cm = confusion_matrix(all_labels, all_preds)\n",
    "    print(f\"\\n{description} Confusion Matrix:\\n{cm}\\n\")\n",
    "\n",
    "    # Classification Report\n",
    "    cr = classification_report(all_labels, all_preds, digits=4)\n",
    "    print(f\"{description} Classification Report:\\n{cr}\\n\")\n",
    "\n",
    "    return acc\n"
   ]
  },
  {
   "cell_type": "code",
   "execution_count": 57,
   "metadata": {
    "execution": {
     "iopub.execute_input": "2025-08-24T15:34:42.503479Z",
     "iopub.status.busy": "2025-08-24T15:34:42.503240Z",
     "iopub.status.idle": "2025-08-24T15:34:42.545588Z",
     "shell.execute_reply": "2025-08-24T15:34:42.544703Z",
     "shell.execute_reply.started": "2025-08-24T15:34:42.503464Z"
    },
    "trusted": true
   },
   "outputs": [
    {
     "name": "stderr",
     "output_type": "stream",
     "text": [
      "Test Baseline:   0%|          | 0/2501 [00:00<?, ?it/s]\n"
     ]
    },
    {
     "ename": "RuntimeError",
     "evalue": "CUDA error: device-side assert triggered\nCUDA kernel errors might be asynchronously reported at some other API call, so the stacktrace below might be incorrect.\nFor debugging consider passing CUDA_LAUNCH_BLOCKING=1\nCompile with `TORCH_USE_CUDA_DSA` to enable device-side assertions.\n",
     "output_type": "error",
     "traceback": [
      "\u001b[0;31m---------------------------------------------------------------------------\u001b[0m",
      "\u001b[0;31mRuntimeError\u001b[0m                              Traceback (most recent call last)",
      "\u001b[0;32m/tmp/ipykernel_180/3373941391.py\u001b[0m in \u001b[0;36m<cell line: 0>\u001b[0;34m()\u001b[0m\n\u001b[1;32m      1\u001b[0m \u001b[0;31m# a) Baseline\u001b[0m\u001b[0;34m\u001b[0m\u001b[0;34m\u001b[0m\u001b[0m\n\u001b[0;32m----> 2\u001b[0;31m \u001b[0mbaseline_test_acc\u001b[0m \u001b[0;34m=\u001b[0m \u001b[0mevaluate_loader_test\u001b[0m\u001b[0;34m(\u001b[0m\u001b[0mbase_model\u001b[0m\u001b[0;34m,\u001b[0m \u001b[0mtest_baseline_loader\u001b[0m\u001b[0;34m,\u001b[0m \u001b[0;34m\"Test Baseline\"\u001b[0m\u001b[0;34m)\u001b[0m\u001b[0;34m\u001b[0m\u001b[0;34m\u001b[0m\u001b[0m\n\u001b[0m\u001b[1;32m      3\u001b[0m \u001b[0mtest_results\u001b[0m\u001b[0;34m.\u001b[0m\u001b[0mappend\u001b[0m\u001b[0;34m(\u001b[0m\u001b[0;34m(\u001b[0m\u001b[0;34m\"Baseline (No ICL)\"\u001b[0m\u001b[0;34m,\u001b[0m \u001b[0mbaseline_test_acc\u001b[0m\u001b[0;34m)\u001b[0m\u001b[0;34m)\u001b[0m\u001b[0;34m\u001b[0m\u001b[0;34m\u001b[0m\u001b[0m\n",
      "\u001b[0;32m/tmp/ipykernel_180/157243941.py\u001b[0m in \u001b[0;36mevaluate_loader_test\u001b[0;34m(model, loader, description)\u001b[0m\n\u001b[1;32m     20\u001b[0m             \u001b[0;32melse\u001b[0m\u001b[0;34m:\u001b[0m\u001b[0;34m\u001b[0m\u001b[0;34m\u001b[0m\u001b[0m\n\u001b[1;32m     21\u001b[0m                 \u001b[0;31m# Already flat (ICL datasets)\u001b[0m\u001b[0;34m\u001b[0m\u001b[0;34m\u001b[0m\u001b[0m\n\u001b[0;32m---> 22\u001b[0;31m                 \u001b[0mbatch_labels\u001b[0m \u001b[0;34m=\u001b[0m \u001b[0mlabels_raw\u001b[0m\u001b[0;34m.\u001b[0m\u001b[0mto\u001b[0m\u001b[0;34m(\u001b[0m\u001b[0mdevice\u001b[0m\u001b[0;34m)\u001b[0m\u001b[0;34m\u001b[0m\u001b[0;34m\u001b[0m\u001b[0m\n\u001b[0m\u001b[1;32m     23\u001b[0m \u001b[0;34m\u001b[0m\u001b[0m\n\u001b[1;32m     24\u001b[0m             \u001b[0;31m# Move all other tensors to device\u001b[0m\u001b[0;34m\u001b[0m\u001b[0;34m\u001b[0m\u001b[0m\n",
      "\u001b[0;31mRuntimeError\u001b[0m: CUDA error: device-side assert triggered\nCUDA kernel errors might be asynchronously reported at some other API call, so the stacktrace below might be incorrect.\nFor debugging consider passing CUDA_LAUNCH_BLOCKING=1\nCompile with `TORCH_USE_CUDA_DSA` to enable device-side assertions.\n"
     ]
    }
   ],
   "source": [
    "# a) Baseline\n",
    "baseline_test_acc = evaluate_loader_test(base_model, test_baseline_loader, \"Test Baseline\")\n",
    "test_results.append((\"Baseline (No ICL)\", baseline_test_acc))\n"
   ]
  },
  {
   "cell_type": "code",
   "execution_count": null,
   "metadata": {
    "execution": {
     "iopub.status.busy": "2025-08-24T14:17:06.091981Z",
     "iopub.status.idle": "2025-08-24T14:17:06.092252Z",
     "shell.execute_reply": "2025-08-24T14:17:06.092147Z",
     "shell.execute_reply.started": "2025-08-24T14:17:06.092131Z"
    },
    "trusted": true
   },
   "outputs": [],
   "source": [
    "# b) Few‐Shot ICL (pre-fine-tune)\n",
    "fs_test_acc = evaluate_loader(base_model, test_fewshot_loader, \"Test Few-Shot ICL\")\n",
    "test_results.append((\"Few-Shot ICL (pre-FT)\", fs_test_acc))\n",
    "   "
   ]
  },
  {
   "cell_type": "code",
   "execution_count": null,
   "metadata": {
    "execution": {
     "iopub.status.busy": "2025-08-24T14:17:06.093490Z",
     "iopub.status.idle": "2025-08-24T14:17:06.093716Z",
     "shell.execute_reply": "2025-08-24T14:17:06.093611Z",
     "shell.execute_reply.started": "2025-08-24T14:17:06.093602Z"
    },
    "trusted": true
   },
   "outputs": [],
   "source": [
    "# c) CoT ICL (pre-fine-tune)\n",
    "cot_test_acc = evaluate_loader(base_model, test_cot_loader, \"Test CoT ICL\")\n",
    "test_results.append((\"CoT ICL (pre-FT)\", cot_test_acc))\n",
    "  "
   ]
  },
  {
   "cell_type": "code",
   "execution_count": null,
   "metadata": {
    "execution": {
     "iopub.status.busy": "2025-08-24T14:17:06.094818Z",
     "iopub.status.idle": "2025-08-24T14:17:06.095146Z",
     "shell.execute_reply": "2025-08-24T14:17:06.094983Z",
     "shell.execute_reply.started": "2025-08-24T14:17:06.094969Z"
    },
    "trusted": true
   },
   "outputs": [],
   "source": [
    "# d) Fine-tuned BERT + LoRA (no ICL)\n",
    "ft_test_acc = evaluate_loader(model_with_lora, test_baseline_loader, \"Test Fine-Tuned BERT+LoRA\")\n",
    "test_results.append((\"Fine-Tuned BERT+LoRA\", ft_test_acc))\n",
    "   "
   ]
  },
  {
   "cell_type": "code",
   "execution_count": null,
   "metadata": {
    "execution": {
     "iopub.status.busy": "2025-08-24T14:17:06.096260Z",
     "iopub.status.idle": "2025-08-24T14:17:06.096536Z",
     "shell.execute_reply": "2025-08-24T14:17:06.096430Z",
     "shell.execute_reply.started": "2025-08-24T14:17:06.096417Z"
    },
    "trusted": true
   },
   "outputs": [],
   "source": [
    "# e) Few-Shot ICL on fine-tuned model\n",
    "fs_ft_test_acc = evaluate_loader(model_with_lora, test_fewshot_loader, \"Test Fine-Tuned Few-Shot ICL\")\n",
    "test_results.append((\"Few-Shot ICL (FT)\", fs_ft_test_acc))\n",
    "   "
   ]
  },
  {
   "cell_type": "code",
   "execution_count": null,
   "metadata": {
    "execution": {
     "iopub.status.busy": "2025-08-24T14:17:06.097583Z",
     "iopub.status.idle": "2025-08-24T14:17:06.097882Z",
     "shell.execute_reply": "2025-08-24T14:17:06.097743Z",
     "shell.execute_reply.started": "2025-08-24T14:17:06.097729Z"
    },
    "trusted": true
   },
   "outputs": [],
   "source": [
    "# f) CoT ICL on fine-tuned model\n",
    "cot_ft_test_acc = evaluate_loader(model_with_lora, test_cot_loader, \"Test Fine-Tuned CoT ICL\")\n",
    "test_results.append((\"CoT ICL (FT)\", cot_ft_test_acc))\n",
    "  "
   ]
  },
  {
   "cell_type": "markdown",
   "metadata": {},
   "source": [
    "## 14. Report All"
   ]
  },
  {
   "cell_type": "code",
   "execution_count": null,
   "metadata": {
    "execution": {
     "iopub.status.busy": "2025-08-24T14:17:06.099040Z",
     "iopub.status.idle": "2025-08-24T14:17:06.099359Z",
     "shell.execute_reply": "2025-08-24T14:17:06.099218Z",
     "shell.execute_reply.started": "2025-08-24T14:17:06.099203Z"
    },
    "trusted": true
   },
   "outputs": [],
   "source": [
    "import pandas as pd\n",
    "df = pd.DataFrame(test_results, columns=[\"Method\", \"Test Accuracy\"])\n",
    "print(df)"
   ]
  }
 ],
 "metadata": {
  "kaggle": {
   "accelerator": "none",
   "dataSources": [],
   "isGpuEnabled": false,
   "isInternetEnabled": true,
   "language": "python",
   "sourceType": "notebook"
  },
  "kernelspec": {
   "display_name": "Python 3",
   "language": "python",
   "name": "python3"
  },
  "language_info": {
   "codemirror_mode": {
    "name": "ipython",
    "version": 3
   },
   "file_extension": ".py",
   "mimetype": "text/x-python",
   "name": "python",
   "nbconvert_exporter": "python",
   "pygments_lexer": "ipython3",
   "version": "3.11.13"
  }
 },
 "nbformat": 4,
 "nbformat_minor": 4
}
